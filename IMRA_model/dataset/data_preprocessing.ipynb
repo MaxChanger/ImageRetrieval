{
 "cells": [
  {
   "cell_type": "markdown",
   "metadata": {},
   "source": [
    "# Medlink ECG Data Preprocessing"
   ]
  },
  {
   "cell_type": "code",
   "execution_count": 1,
   "metadata": {},
   "outputs": [],
   "source": [
    "import pandas as pd\n",
    "import glob2\n",
    "import os\n",
    "# import cv2\n",
    "import sys\n",
    "from matplotlib import pylab as plt\n",
    "import numpy as np\n",
    "from tqdm import tqdm\n",
    "import shutil\n",
    "import json\n",
    "# import imgaug as ia\n",
    "# from imgaug import augmenters as iaa"
   ]
  },
  {
   "cell_type": "markdown",
   "metadata": {},
   "source": [
    "[diwh]change the main data_sheet's name"
   ]
  },
  {
   "cell_type": "code",
   "execution_count": 2,
   "metadata": {},
   "outputs": [],
   "source": [
    "base_dir = r'E:\\Data\\Rimag\\MIR'\n",
    "train_df = pd.read_csv(base_dir+r'\\train.csv')"
   ]
  },
  {
   "cell_type": "code",
   "execution_count": 22,
   "metadata": {},
   "outputs": [
    {
     "data": {
      "text/html": [
       "<div>\n",
       "<style scoped>\n",
       "    .dataframe tbody tr th:only-of-type {\n",
       "        vertical-align: middle;\n",
       "    }\n",
       "\n",
       "    .dataframe tbody tr th {\n",
       "        vertical-align: top;\n",
       "    }\n",
       "\n",
       "    .dataframe thead th {\n",
       "        text-align: right;\n",
       "    }\n",
       "</style>\n",
       "<table border=\"1\" class=\"dataframe\">\n",
       "  <thead>\n",
       "    <tr style=\"text-align: right;\">\n",
       "      <th></th>\n",
       "      <th>tag</th>\n",
       "      <th>ID</th>\n",
       "      <th>anatomical</th>\n",
       "      <th>anatomical_1st</th>\n",
       "    </tr>\n",
       "  </thead>\n",
       "  <tbody>\n",
       "    <tr>\n",
       "      <th>0</th>\n",
       "      <td>1877;1121-117-720-452;52;11-1-72-4;\\N;\\N;\\N;11...</td>\n",
       "      <td>1877</td>\n",
       "      <td>720</td>\n",
       "      <td>7</td>\n",
       "    </tr>\n",
       "    <tr>\n",
       "      <th>1</th>\n",
       "      <td>1879;1121-117-720-452;52;11-1-72-4;\\N;\\N;\\N;11...</td>\n",
       "      <td>1879</td>\n",
       "      <td>720</td>\n",
       "      <td>7</td>\n",
       "    </tr>\n",
       "    <tr>\n",
       "      <th>2</th>\n",
       "      <td>1880;1121-127-700-500;51;11-1-70-5;94;1121-127...</td>\n",
       "      <td>1880</td>\n",
       "      <td>700</td>\n",
       "      <td>7</td>\n",
       "    </tr>\n",
       "    <tr>\n",
       "      <th>3</th>\n",
       "      <td>1882;1121-115-710-400;46;11-1-71-4;64;1121-115...</td>\n",
       "      <td>1882</td>\n",
       "      <td>710</td>\n",
       "      <td>7</td>\n",
       "    </tr>\n",
       "    <tr>\n",
       "      <th>4</th>\n",
       "      <td>1883;1121-115-700-400;17;11-1-70-4;14;1121-115...</td>\n",
       "      <td>1883</td>\n",
       "      <td>700</td>\n",
       "      <td>7</td>\n",
       "    </tr>\n",
       "  </tbody>\n",
       "</table>\n",
       "</div>"
      ],
      "text/plain": [
       "                                                 tag    ID anatomical  \\\n",
       "0  1877;1121-117-720-452;52;11-1-72-4;\\N;\\N;\\N;11...  1877        720   \n",
       "1  1879;1121-117-720-452;52;11-1-72-4;\\N;\\N;\\N;11...  1879        720   \n",
       "2  1880;1121-127-700-500;51;11-1-70-5;94;1121-127...  1880        700   \n",
       "3  1882;1121-115-710-400;46;11-1-71-4;64;1121-115...  1882        710   \n",
       "4  1883;1121-115-700-400;17;11-1-70-4;14;1121-115...  1883        700   \n",
       "\n",
       "  anatomical_1st  \n",
       "0              7  \n",
       "1              7  \n",
       "2              7  \n",
       "3              7  \n",
       "4              7  "
      ]
     },
     "execution_count": 22,
     "metadata": {},
     "output_type": "execute_result"
    }
   ],
   "source": [
    "train_df.head()"
   ]
  },
  {
   "cell_type": "code",
   "execution_count": 5,
   "metadata": {},
   "outputs": [],
   "source": [
    "train_df.columns=['tag']"
   ]
  },
  {
   "cell_type": "code",
   "execution_count": 7,
   "metadata": {},
   "outputs": [],
   "source": [
    "train_df['ID'] = train_df.apply(lambda x:x['tag'].split(';')[0],axis = 1)"
   ]
  },
  {
   "cell_type": "code",
   "execution_count": 9,
   "metadata": {},
   "outputs": [],
   "source": [
    "train_df['anatomical']=train_df.apply(lambda x:x['tag'].split(';')[1].split('-')[2],axis = 1)"
   ]
  },
  {
   "cell_type": "code",
   "execution_count": 20,
   "metadata": {},
   "outputs": [],
   "source": [
    "train_df['anatomical_1st']=train_df.apply(lambda x:x['tag'].split(';')[1].split('-')[2][0],axis = 1)"
   ]
  },
  {
   "cell_type": "code",
   "execution_count": 27,
   "metadata": {},
   "outputs": [],
   "source": [
    "train_df['anatomical_12']=train_df.apply(lambda x:x['tag'].split(';')[1].split('-')[2][:2],axis = 1)"
   ]
  },
  {
   "cell_type": "code",
   "execution_count": 23,
   "metadata": {},
   "outputs": [
    {
     "data": {
      "image/png": "[encoded data removed]",
      "text/plain": [
       "<Figure size 432x288 with 1 Axes>"
      ]
     },
     "metadata": {
      "needs_background": "light"
     },
     "output_type": "display_data"
    }
   ],
   "source": [
    "train_df.anatomical_1st.hist()\n",
    "tt = train_df.anatomical_1st.value_counts()"
   ]
  },
  {
   "cell_type": "code",
   "execution_count": 26,
   "metadata": {},
   "outputs": [
    {
     "data": {
      "text/plain": [
       "5    4829\n",
       "9    2153\n",
       "4    2041\n",
       "3    1475\n",
       "2    1246\n",
       "6     339\n",
       "7     307\n",
       "8     284\n",
       "1       3\n",
       "Name: anatomical_1st, dtype: int64"
      ]
     },
     "execution_count": 26,
     "metadata": {},
     "output_type": "execute_result"
    }
   ],
   "source": [
    "tt"
   ]
  },
  {
   "cell_type": "code",
   "execution_count": 28,
   "metadata": {},
   "outputs": [
    {
     "data": {
      "image/png": "[encoded data removed]",
      "text/plain": [
       "<Figure size 432x288 with 1 Axes>"
      ]
     },
     "metadata": {
      "needs_background": "light"
     },
     "output_type": "display_data"
    }
   ],
   "source": [
    "train_df.anatomical_12.hist()\n",
    "tt = train_df.anatomical_12.value_counts()"
   ]
  },
  {
   "cell_type": "code",
   "execution_count": 31,
   "metadata": {},
   "outputs": [
    {
     "data": {
      "text/plain": [
       "(50    4629\n",
       " 41     881\n",
       " 94     605\n",
       " 91     592\n",
       " 33     591\n",
       " 31     588\n",
       " 92     450\n",
       " 23     414\n",
       " 20     411\n",
       " 21     404\n",
       " 46     334\n",
       " 32     292\n",
       " 42     273\n",
       " 80     267\n",
       " 44     266\n",
       " 96     237\n",
       " 70     231\n",
       " 43     198\n",
       " 51     190\n",
       " 62     171\n",
       " 61     164\n",
       " 95     135\n",
       " 93     130\n",
       " 45      88\n",
       " 71      43\n",
       " 72      19\n",
       " 22      17\n",
       " 82      12\n",
       " 73       9\n",
       " 54       6\n",
       " 75       5\n",
       " 81       5\n",
       " 52       4\n",
       " 60       4\n",
       " 90       4\n",
       " 11       3\n",
       " 30       2\n",
       " 34       2\n",
       " 40       1\n",
       " Name: anatomical_12, dtype: int64,\n",
       " 39)"
      ]
     },
     "execution_count": 31,
     "metadata": {},
     "output_type": "execute_result"
    }
   ],
   "source": [
    "tt,len(tt)"
   ]
  },
  {
   "cell_type": "code",
   "execution_count": 32,
   "metadata": {},
   "outputs": [
    {
     "data": {
      "text/html": [
       "<div>\n",
       "<style scoped>\n",
       "    .dataframe tbody tr th:only-of-type {\n",
       "        vertical-align: middle;\n",
       "    }\n",
       "\n",
       "    .dataframe tbody tr th {\n",
       "        vertical-align: top;\n",
       "    }\n",
       "\n",
       "    .dataframe thead th {\n",
       "        text-align: right;\n",
       "    }\n",
       "</style>\n",
       "<table border=\"1\" class=\"dataframe\">\n",
       "  <thead>\n",
       "    <tr style=\"text-align: right;\">\n",
       "      <th></th>\n",
       "      <th>tag</th>\n",
       "      <th>ID</th>\n",
       "      <th>anatomical</th>\n",
       "      <th>anatomical_1st</th>\n",
       "      <th>anatomical_12</th>\n",
       "    </tr>\n",
       "  </thead>\n",
       "  <tbody>\n",
       "    <tr>\n",
       "      <th>0</th>\n",
       "      <td>1877;1121-117-720-452;52;11-1-72-4;\\N;\\N;\\N;11...</td>\n",
       "      <td>1877</td>\n",
       "      <td>720</td>\n",
       "      <td>7</td>\n",
       "      <td>72</td>\n",
       "    </tr>\n",
       "    <tr>\n",
       "      <th>1</th>\n",
       "      <td>1879;1121-117-720-452;52;11-1-72-4;\\N;\\N;\\N;11...</td>\n",
       "      <td>1879</td>\n",
       "      <td>720</td>\n",
       "      <td>7</td>\n",
       "      <td>72</td>\n",
       "    </tr>\n",
       "    <tr>\n",
       "      <th>2</th>\n",
       "      <td>1880;1121-127-700-500;51;11-1-70-5;94;1121-127...</td>\n",
       "      <td>1880</td>\n",
       "      <td>700</td>\n",
       "      <td>7</td>\n",
       "      <td>70</td>\n",
       "    </tr>\n",
       "    <tr>\n",
       "      <th>3</th>\n",
       "      <td>1882;1121-115-710-400;46;11-1-71-4;64;1121-115...</td>\n",
       "      <td>1882</td>\n",
       "      <td>710</td>\n",
       "      <td>7</td>\n",
       "      <td>71</td>\n",
       "    </tr>\n",
       "    <tr>\n",
       "      <th>4</th>\n",
       "      <td>1883;1121-115-700-400;17;11-1-70-4;14;1121-115...</td>\n",
       "      <td>1883</td>\n",
       "      <td>700</td>\n",
       "      <td>7</td>\n",
       "      <td>70</td>\n",
       "    </tr>\n",
       "  </tbody>\n",
       "</table>\n",
       "</div>"
      ],
      "text/plain": [
       "                                                 tag    ID anatomical  \\\n",
       "0  1877;1121-117-720-452;52;11-1-72-4;\\N;\\N;\\N;11...  1877        720   \n",
       "1  1879;1121-117-720-452;52;11-1-72-4;\\N;\\N;\\N;11...  1879        720   \n",
       "2  1880;1121-127-700-500;51;11-1-70-5;94;1121-127...  1880        700   \n",
       "3  1882;1121-115-710-400;46;11-1-71-4;64;1121-115...  1882        710   \n",
       "4  1883;1121-115-700-400;17;11-1-70-4;14;1121-115...  1883        700   \n",
       "\n",
       "  anatomical_1st anatomical_12  \n",
       "0              7            72  \n",
       "1              7            72  \n",
       "2              7            70  \n",
       "3              7            71  \n",
       "4              7            70  "
      ]
     },
     "execution_count": 32,
     "metadata": {},
     "output_type": "execute_result"
    }
   ],
   "source": [
    "train_df.head()"
   ]
  },
  {
   "cell_type": "code",
   "execution_count": 33,
   "metadata": {},
   "outputs": [],
   "source": [
    "train_df['tag']=train_df['anatomical_1st']"
   ]
  },
  {
   "cell_type": "code",
   "execution_count": 42,
   "metadata": {},
   "outputs": [],
   "source": [
    "train_df = train_df[~train_df['tag'].isin(['1'])]"
   ]
  },
  {
   "cell_type": "code",
   "execution_count": 43,
   "metadata": {},
   "outputs": [
    {
     "data": {
      "image/png": "[encoded data removed]",
      "text/plain": [
       "<Figure size 432x288 with 1 Axes>"
      ]
     },
     "metadata": {
      "needs_background": "light"
     },
     "output_type": "display_data"
    }
   ],
   "source": [
    "train_df.tag.hist()\n",
    "tt = train_df.tag.value_counts()"
   ]
  },
  {
   "cell_type": "code",
   "execution_count": 44,
   "metadata": {},
   "outputs": [
    {
     "data": {
      "text/plain": [
       "5    4829\n",
       "9    2153\n",
       "4    2041\n",
       "3    1475\n",
       "2    1246\n",
       "6     339\n",
       "7     307\n",
       "8     284\n",
       "Name: tag, dtype: int64"
      ]
     },
     "execution_count": 44,
     "metadata": {},
     "output_type": "execute_result"
    }
   ],
   "source": [
    "tt"
   ]
  },
  {
   "cell_type": "code",
   "execution_count": 45,
   "metadata": {},
   "outputs": [],
   "source": [
    "df = pd.DataFrame(train_df,columns=['ID','tag'])"
   ]
  },
  {
   "cell_type": "code",
   "execution_count": 49,
   "metadata": {},
   "outputs": [
    {
     "data": {
      "text/html": [
       "<div>\n",
       "<style scoped>\n",
       "    .dataframe tbody tr th:only-of-type {\n",
       "        vertical-align: middle;\n",
       "    }\n",
       "\n",
       "    .dataframe tbody tr th {\n",
       "        vertical-align: top;\n",
       "    }\n",
       "\n",
       "    .dataframe thead th {\n",
       "        text-align: right;\n",
       "    }\n",
       "</style>\n",
       "<table border=\"1\" class=\"dataframe\">\n",
       "  <thead>\n",
       "    <tr style=\"text-align: right;\">\n",
       "      <th></th>\n",
       "      <th>ID</th>\n",
       "      <th>tag</th>\n",
       "      <th>data_path</th>\n",
       "    </tr>\n",
       "  </thead>\n",
       "  <tbody>\n",
       "    <tr>\n",
       "      <th>0</th>\n",
       "      <td>1877</td>\n",
       "      <td>7</td>\n",
       "      <td>E:\\Data\\Rimag\\MIR\\train\\1877</td>\n",
       "    </tr>\n",
       "    <tr>\n",
       "      <th>1</th>\n",
       "      <td>1879</td>\n",
       "      <td>7</td>\n",
       "      <td>E:\\Data\\Rimag\\MIR\\train\\1879</td>\n",
       "    </tr>\n",
       "    <tr>\n",
       "      <th>2</th>\n",
       "      <td>1880</td>\n",
       "      <td>7</td>\n",
       "      <td>E:\\Data\\Rimag\\MIR\\train\\1880</td>\n",
       "    </tr>\n",
       "    <tr>\n",
       "      <th>3</th>\n",
       "      <td>1882</td>\n",
       "      <td>7</td>\n",
       "      <td>E:\\Data\\Rimag\\MIR\\train\\1882</td>\n",
       "    </tr>\n",
       "    <tr>\n",
       "      <th>4</th>\n",
       "      <td>1883</td>\n",
       "      <td>7</td>\n",
       "      <td>E:\\Data\\Rimag\\MIR\\train\\1883</td>\n",
       "    </tr>\n",
       "  </tbody>\n",
       "</table>\n",
       "</div>"
      ],
      "text/plain": [
       "     ID tag                     data_path\n",
       "0  1877   7  E:\\Data\\Rimag\\MIR\\train\\1877\n",
       "1  1879   7  E:\\Data\\Rimag\\MIR\\train\\1879\n",
       "2  1880   7  E:\\Data\\Rimag\\MIR\\train\\1880\n",
       "3  1882   7  E:\\Data\\Rimag\\MIR\\train\\1882\n",
       "4  1883   7  E:\\Data\\Rimag\\MIR\\train\\1883"
      ]
     },
     "execution_count": 49,
     "metadata": {},
     "output_type": "execute_result"
    }
   ],
   "source": [
    "df.head()"
   ]
  },
  {
   "cell_type": "code",
   "execution_count": 56,
   "metadata": {},
   "outputs": [],
   "source": [
    "data_path = r'E:\\Data\\Rimag\\MIR\\train'\n",
    "df['data_path'] = df.apply(lambda x: os.path.join(data_path,x['ID']+'.png'),axis=1)"
   ]
  },
  {
   "cell_type": "code",
   "execution_count": 57,
   "metadata": {},
   "outputs": [
    {
     "data": {
      "text/plain": [
       "<matplotlib.axes._subplots.AxesSubplot at 0x180e604bc50>"
      ]
     },
     "execution_count": 57,
     "metadata": {},
     "output_type": "execute_result"
    },
    {
     "data": {
      "image/png": "[encoded data removed]",
      "text/plain": [
       "<Figure size 432x288 with 1 Axes>"
      ]
     },
     "metadata": {
      "needs_background": "light"
     },
     "output_type": "display_data"
    }
   ],
   "source": [
    "df.tag.hist()"
   ]
  },
  {
   "cell_type": "code",
   "execution_count": 58,
   "metadata": {},
   "outputs": [
    {
     "name": "stdout",
     "output_type": "stream",
     "text": [
      "verified patients: 12674\n",
      "selected patients: 1267\n",
      "selected patients for train: 11407\n"
     ]
    }
   ],
   "source": [
    "key_set = set(df.ID)\n",
    "len(key_set)\n",
    "SEED = 1\n",
    "patients_verified = list(set(key_set))\n",
    "N_SELECT_total = len(set(key_set))\n",
    "N_SELECT_valid = round(N_SELECT_total*0.1)\n",
    "np.random.seed(SEED)\n",
    "# split for train/valid\n",
    "patients_selected = np.random.choice(patients_verified, N_SELECT_valid, replace=False)\n",
    "patients_train = list(set(patients_verified) - set(patients_selected))\n",
    "print('verified patients: {}'.format(len(patients_verified)))\n",
    "print('selected patients: {}'.format(len(patients_selected)))\n",
    "print('selected patients for train: {}'.format(len(patients_train)))"
   ]
  },
  {
   "cell_type": "code",
   "execution_count": 69,
   "metadata": {},
   "outputs": [
    {
     "data": {
      "image/png": "[encoded data removed]",
      "text/plain": [
       "<Figure size 432x288 with 1 Axes>"
      ]
     },
     "metadata": {
      "needs_background": "light"
     },
     "output_type": "display_data"
    },
    {
     "data": {
      "image/png": "[encoded data removed]",
      "text/plain": [
       "<Figure size 432x288 with 1 Axes>"
      ]
     },
     "metadata": {
      "needs_background": "light"
     },
     "output_type": "display_data"
    }
   ],
   "source": [
    "df['valid']=df.apply(lambda x: 1 if x['ID'] in set(patients_selected) else 0, axis=1)\n",
    "grouped = df.groupby(df['valid'])\n",
    "for value, group in grouped:\n",
    "    plt.figure()\n",
    "    group.tag.hist()"
   ]
  },
  {
   "cell_type": "code",
   "execution_count": 70,
   "metadata": {},
   "outputs": [
    {
     "data": {
      "text/html": [
       "<div>\n",
       "<style scoped>\n",
       "    .dataframe tbody tr th:only-of-type {\n",
       "        vertical-align: middle;\n",
       "    }\n",
       "\n",
       "    .dataframe tbody tr th {\n",
       "        vertical-align: top;\n",
       "    }\n",
       "\n",
       "    .dataframe thead th {\n",
       "        text-align: right;\n",
       "    }\n",
       "</style>\n",
       "<table border=\"1\" class=\"dataframe\">\n",
       "  <thead>\n",
       "    <tr style=\"text-align: right;\">\n",
       "      <th></th>\n",
       "      <th>ID</th>\n",
       "      <th>tag</th>\n",
       "      <th>data_path</th>\n",
       "      <th>valid</th>\n",
       "      <th>cls_name</th>\n",
       "    </tr>\n",
       "  </thead>\n",
       "  <tbody>\n",
       "    <tr>\n",
       "      <th>0</th>\n",
       "      <td>1877</td>\n",
       "      <td>5</td>\n",
       "      <td>E:\\Data\\Rimag\\MIR\\train\\1877.png</td>\n",
       "      <td>0</td>\n",
       "      <td>7</td>\n",
       "    </tr>\n",
       "    <tr>\n",
       "      <th>1</th>\n",
       "      <td>1879</td>\n",
       "      <td>5</td>\n",
       "      <td>E:\\Data\\Rimag\\MIR\\train\\1879.png</td>\n",
       "      <td>0</td>\n",
       "      <td>7</td>\n",
       "    </tr>\n",
       "    <tr>\n",
       "      <th>2</th>\n",
       "      <td>1880</td>\n",
       "      <td>5</td>\n",
       "      <td>E:\\Data\\Rimag\\MIR\\train\\1880.png</td>\n",
       "      <td>0</td>\n",
       "      <td>7</td>\n",
       "    </tr>\n",
       "    <tr>\n",
       "      <th>3</th>\n",
       "      <td>1882</td>\n",
       "      <td>5</td>\n",
       "      <td>E:\\Data\\Rimag\\MIR\\train\\1882.png</td>\n",
       "      <td>0</td>\n",
       "      <td>7</td>\n",
       "    </tr>\n",
       "    <tr>\n",
       "      <th>4</th>\n",
       "      <td>1883</td>\n",
       "      <td>5</td>\n",
       "      <td>E:\\Data\\Rimag\\MIR\\train\\1883.png</td>\n",
       "      <td>0</td>\n",
       "      <td>7</td>\n",
       "    </tr>\n",
       "  </tbody>\n",
       "</table>\n",
       "</div>"
      ],
      "text/plain": [
       "     ID  tag                         data_path  valid cls_name\n",
       "0  1877    5  E:\\Data\\Rimag\\MIR\\train\\1877.png      0        7\n",
       "1  1879    5  E:\\Data\\Rimag\\MIR\\train\\1879.png      0        7\n",
       "2  1880    5  E:\\Data\\Rimag\\MIR\\train\\1880.png      0        7\n",
       "3  1882    5  E:\\Data\\Rimag\\MIR\\train\\1882.png      0        7\n",
       "4  1883    5  E:\\Data\\Rimag\\MIR\\train\\1883.png      0        7"
      ]
     },
     "execution_count": 70,
     "metadata": {},
     "output_type": "execute_result"
    }
   ],
   "source": [
    "df.head()"
   ]
  },
  {
   "cell_type": "code",
   "execution_count": 61,
   "metadata": {},
   "outputs": [],
   "source": [
    "df['cls_name'] = df['tag']"
   ]
  },
  {
   "cell_type": "code",
   "execution_count": 62,
   "metadata": {},
   "outputs": [],
   "source": [
    "df['tag']=df.apply(lambda x: int(x['cls_name'])-2, axis = 1)"
   ]
  },
  {
   "cell_type": "code",
   "execution_count": 71,
   "metadata": {},
   "outputs": [
    {
     "data": {
      "text/html": [
       "<div>\n",
       "<style scoped>\n",
       "    .dataframe tbody tr th:only-of-type {\n",
       "        vertical-align: middle;\n",
       "    }\n",
       "\n",
       "    .dataframe tbody tr th {\n",
       "        vertical-align: top;\n",
       "    }\n",
       "\n",
       "    .dataframe thead th {\n",
       "        text-align: right;\n",
       "    }\n",
       "</style>\n",
       "<table border=\"1\" class=\"dataframe\">\n",
       "  <thead>\n",
       "    <tr style=\"text-align: right;\">\n",
       "      <th></th>\n",
       "      <th>ID</th>\n",
       "      <th>tag</th>\n",
       "      <th>data_path</th>\n",
       "      <th>valid</th>\n",
       "      <th>cls_name</th>\n",
       "    </tr>\n",
       "  </thead>\n",
       "  <tbody>\n",
       "    <tr>\n",
       "      <th>0</th>\n",
       "      <td>1877</td>\n",
       "      <td>5</td>\n",
       "      <td>E:\\Data\\Rimag\\MIR\\train\\1877.png</td>\n",
       "      <td>0</td>\n",
       "      <td>7</td>\n",
       "    </tr>\n",
       "    <tr>\n",
       "      <th>1</th>\n",
       "      <td>1879</td>\n",
       "      <td>5</td>\n",
       "      <td>E:\\Data\\Rimag\\MIR\\train\\1879.png</td>\n",
       "      <td>0</td>\n",
       "      <td>7</td>\n",
       "    </tr>\n",
       "    <tr>\n",
       "      <th>2</th>\n",
       "      <td>1880</td>\n",
       "      <td>5</td>\n",
       "      <td>E:\\Data\\Rimag\\MIR\\train\\1880.png</td>\n",
       "      <td>0</td>\n",
       "      <td>7</td>\n",
       "    </tr>\n",
       "    <tr>\n",
       "      <th>3</th>\n",
       "      <td>1882</td>\n",
       "      <td>5</td>\n",
       "      <td>E:\\Data\\Rimag\\MIR\\train\\1882.png</td>\n",
       "      <td>0</td>\n",
       "      <td>7</td>\n",
       "    </tr>\n",
       "    <tr>\n",
       "      <th>4</th>\n",
       "      <td>1883</td>\n",
       "      <td>5</td>\n",
       "      <td>E:\\Data\\Rimag\\MIR\\train\\1883.png</td>\n",
       "      <td>0</td>\n",
       "      <td>7</td>\n",
       "    </tr>\n",
       "    <tr>\n",
       "      <th>...</th>\n",
       "      <td>...</td>\n",
       "      <td>...</td>\n",
       "      <td>...</td>\n",
       "      <td>...</td>\n",
       "      <td>...</td>\n",
       "    </tr>\n",
       "    <tr>\n",
       "      <th>12672</th>\n",
       "      <td>766864</td>\n",
       "      <td>3</td>\n",
       "      <td>E:\\Data\\Rimag\\MIR\\train\\766864.png</td>\n",
       "      <td>0</td>\n",
       "      <td>5</td>\n",
       "    </tr>\n",
       "    <tr>\n",
       "      <th>12673</th>\n",
       "      <td>766866</td>\n",
       "      <td>0</td>\n",
       "      <td>E:\\Data\\Rimag\\MIR\\train\\766866.png</td>\n",
       "      <td>0</td>\n",
       "      <td>2</td>\n",
       "    </tr>\n",
       "    <tr>\n",
       "      <th>12674</th>\n",
       "      <td>766867</td>\n",
       "      <td>0</td>\n",
       "      <td>E:\\Data\\Rimag\\MIR\\train\\766867.png</td>\n",
       "      <td>0</td>\n",
       "      <td>2</td>\n",
       "    </tr>\n",
       "    <tr>\n",
       "      <th>12675</th>\n",
       "      <td>900941</td>\n",
       "      <td>0</td>\n",
       "      <td>E:\\Data\\Rimag\\MIR\\train\\900941.png</td>\n",
       "      <td>0</td>\n",
       "      <td>2</td>\n",
       "    </tr>\n",
       "    <tr>\n",
       "      <th>12676</th>\n",
       "      <td>900942</td>\n",
       "      <td>2</td>\n",
       "      <td>E:\\Data\\Rimag\\MIR\\train\\900942.png</td>\n",
       "      <td>0</td>\n",
       "      <td>4</td>\n",
       "    </tr>\n",
       "  </tbody>\n",
       "</table>\n",
       "<p>12674 rows × 5 columns</p>\n",
       "</div>"
      ],
      "text/plain": [
       "           ID  tag                           data_path  valid cls_name\n",
       "0        1877    5    E:\\Data\\Rimag\\MIR\\train\\1877.png      0        7\n",
       "1        1879    5    E:\\Data\\Rimag\\MIR\\train\\1879.png      0        7\n",
       "2        1880    5    E:\\Data\\Rimag\\MIR\\train\\1880.png      0        7\n",
       "3        1882    5    E:\\Data\\Rimag\\MIR\\train\\1882.png      0        7\n",
       "4        1883    5    E:\\Data\\Rimag\\MIR\\train\\1883.png      0        7\n",
       "...       ...  ...                                 ...    ...      ...\n",
       "12672  766864    3  E:\\Data\\Rimag\\MIR\\train\\766864.png      0        5\n",
       "12673  766866    0  E:\\Data\\Rimag\\MIR\\train\\766866.png      0        2\n",
       "12674  766867    0  E:\\Data\\Rimag\\MIR\\train\\766867.png      0        2\n",
       "12675  900941    0  E:\\Data\\Rimag\\MIR\\train\\900941.png      0        2\n",
       "12676  900942    2  E:\\Data\\Rimag\\MIR\\train\\900942.png      0        4\n",
       "\n",
       "[12674 rows x 5 columns]"
      ]
     },
     "execution_count": 71,
     "metadata": {},
     "output_type": "execute_result"
    }
   ],
   "source": [
    "df"
   ]
  },
  {
   "cell_type": "code",
   "execution_count": 72,
   "metadata": {},
   "outputs": [
    {
     "data": {
      "text/html": [
       "<div>\n",
       "<style scoped>\n",
       "    .dataframe tbody tr th:only-of-type {\n",
       "        vertical-align: middle;\n",
       "    }\n",
       "\n",
       "    .dataframe tbody tr th {\n",
       "        vertical-align: top;\n",
       "    }\n",
       "\n",
       "    .dataframe thead th {\n",
       "        text-align: right;\n",
       "    }\n",
       "</style>\n",
       "<table border=\"1\" class=\"dataframe\">\n",
       "  <thead>\n",
       "    <tr style=\"text-align: right;\">\n",
       "      <th></th>\n",
       "      <th>ID</th>\n",
       "      <th>tag</th>\n",
       "      <th>data_path</th>\n",
       "      <th>valid</th>\n",
       "      <th>cls_name</th>\n",
       "    </tr>\n",
       "  </thead>\n",
       "  <tbody>\n",
       "    <tr>\n",
       "      <th>0</th>\n",
       "      <td>1877</td>\n",
       "      <td>5</td>\n",
       "      <td>E:\\Data\\Rimag\\MIR\\train\\1877.png</td>\n",
       "      <td>0</td>\n",
       "      <td>7</td>\n",
       "    </tr>\n",
       "    <tr>\n",
       "      <th>1</th>\n",
       "      <td>1879</td>\n",
       "      <td>5</td>\n",
       "      <td>E:\\Data\\Rimag\\MIR\\train\\1879.png</td>\n",
       "      <td>0</td>\n",
       "      <td>7</td>\n",
       "    </tr>\n",
       "    <tr>\n",
       "      <th>2</th>\n",
       "      <td>1880</td>\n",
       "      <td>5</td>\n",
       "      <td>E:\\Data\\Rimag\\MIR\\train\\1880.png</td>\n",
       "      <td>0</td>\n",
       "      <td>7</td>\n",
       "    </tr>\n",
       "    <tr>\n",
       "      <th>3</th>\n",
       "      <td>1882</td>\n",
       "      <td>5</td>\n",
       "      <td>E:\\Data\\Rimag\\MIR\\train\\1882.png</td>\n",
       "      <td>0</td>\n",
       "      <td>7</td>\n",
       "    </tr>\n",
       "    <tr>\n",
       "      <th>4</th>\n",
       "      <td>1883</td>\n",
       "      <td>5</td>\n",
       "      <td>E:\\Data\\Rimag\\MIR\\train\\1883.png</td>\n",
       "      <td>0</td>\n",
       "      <td>7</td>\n",
       "    </tr>\n",
       "    <tr>\n",
       "      <th>...</th>\n",
       "      <td>...</td>\n",
       "      <td>...</td>\n",
       "      <td>...</td>\n",
       "      <td>...</td>\n",
       "      <td>...</td>\n",
       "    </tr>\n",
       "    <tr>\n",
       "      <th>12669</th>\n",
       "      <td>766864</td>\n",
       "      <td>3</td>\n",
       "      <td>E:\\Data\\Rimag\\MIR\\train\\766864.png</td>\n",
       "      <td>0</td>\n",
       "      <td>5</td>\n",
       "    </tr>\n",
       "    <tr>\n",
       "      <th>12670</th>\n",
       "      <td>766866</td>\n",
       "      <td>0</td>\n",
       "      <td>E:\\Data\\Rimag\\MIR\\train\\766866.png</td>\n",
       "      <td>0</td>\n",
       "      <td>2</td>\n",
       "    </tr>\n",
       "    <tr>\n",
       "      <th>12671</th>\n",
       "      <td>766867</td>\n",
       "      <td>0</td>\n",
       "      <td>E:\\Data\\Rimag\\MIR\\train\\766867.png</td>\n",
       "      <td>0</td>\n",
       "      <td>2</td>\n",
       "    </tr>\n",
       "    <tr>\n",
       "      <th>12672</th>\n",
       "      <td>900941</td>\n",
       "      <td>0</td>\n",
       "      <td>E:\\Data\\Rimag\\MIR\\train\\900941.png</td>\n",
       "      <td>0</td>\n",
       "      <td>2</td>\n",
       "    </tr>\n",
       "    <tr>\n",
       "      <th>12673</th>\n",
       "      <td>900942</td>\n",
       "      <td>2</td>\n",
       "      <td>E:\\Data\\Rimag\\MIR\\train\\900942.png</td>\n",
       "      <td>0</td>\n",
       "      <td>4</td>\n",
       "    </tr>\n",
       "  </tbody>\n",
       "</table>\n",
       "<p>12674 rows × 5 columns</p>\n",
       "</div>"
      ],
      "text/plain": [
       "           ID  tag                           data_path  valid cls_name\n",
       "0        1877    5    E:\\Data\\Rimag\\MIR\\train\\1877.png      0        7\n",
       "1        1879    5    E:\\Data\\Rimag\\MIR\\train\\1879.png      0        7\n",
       "2        1880    5    E:\\Data\\Rimag\\MIR\\train\\1880.png      0        7\n",
       "3        1882    5    E:\\Data\\Rimag\\MIR\\train\\1882.png      0        7\n",
       "4        1883    5    E:\\Data\\Rimag\\MIR\\train\\1883.png      0        7\n",
       "...       ...  ...                                 ...    ...      ...\n",
       "12669  766864    3  E:\\Data\\Rimag\\MIR\\train\\766864.png      0        5\n",
       "12670  766866    0  E:\\Data\\Rimag\\MIR\\train\\766866.png      0        2\n",
       "12671  766867    0  E:\\Data\\Rimag\\MIR\\train\\766867.png      0        2\n",
       "12672  900941    0  E:\\Data\\Rimag\\MIR\\train\\900941.png      0        2\n",
       "12673  900942    2  E:\\Data\\Rimag\\MIR\\train\\900942.png      0        4\n",
       "\n",
       "[12674 rows x 5 columns]"
      ]
     },
     "execution_count": 72,
     "metadata": {},
     "output_type": "execute_result"
    }
   ],
   "source": [
    "df.reset_index(drop=True)"
   ]
  },
  {
   "cell_type": "code",
   "execution_count": 68,
   "metadata": {},
   "outputs": [
    {
     "data": {
      "text/plain": [
       "12674"
      ]
     },
     "execution_count": 68,
     "metadata": {},
     "output_type": "execute_result"
    }
   ],
   "source": [
    "len(df)"
   ]
  },
  {
   "cell_type": "code",
   "execution_count": 73,
   "metadata": {},
   "outputs": [],
   "source": [
    "df.to_csv('train_val.csv')"
   ]
  },
  {
   "cell_type": "code",
   "execution_count": null,
   "metadata": {},
   "outputs": [],
   "source": []
  },
  {
   "cell_type": "code",
   "execution_count": 74,
   "metadata": {},
   "outputs": [],
   "source": [
    "img_path = df.loc[926,'data_path']"
   ]
  },
  {
   "cell_type": "code",
   "execution_count": 75,
   "metadata": {},
   "outputs": [
    {
     "data": {
      "text/plain": [
       "'E:\\\\Data\\\\Rimag\\\\MIR\\\\train\\\\3452.png'"
      ]
     },
     "execution_count": 75,
     "metadata": {},
     "output_type": "execute_result"
    }
   ],
   "source": [
    "img_path"
   ]
  },
  {
   "cell_type": "code",
   "execution_count": 76,
   "metadata": {},
   "outputs": [],
   "source": [
    "import cv2"
   ]
  },
  {
   "cell_type": "code",
   "execution_count": 77,
   "metadata": {},
   "outputs": [],
   "source": [
    "img = cv2.imread(img_path)"
   ]
  },
  {
   "cell_type": "code",
   "execution_count": 84,
   "metadata": {},
   "outputs": [
    {
     "data": {
      "text/plain": [
       "array([[0, 0, 0, ..., 0, 0, 0],\n",
       "       [0, 0, 0, ..., 0, 0, 0],\n",
       "       [0, 0, 0, ..., 0, 0, 0],\n",
       "       ...,\n",
       "       [0, 0, 0, ..., 0, 0, 0],\n",
       "       [0, 0, 0, ..., 0, 0, 0],\n",
       "       [0, 0, 0, ..., 0, 0, 0]], dtype=uint8)"
      ]
     },
     "execution_count": 84,
     "metadata": {},
     "output_type": "execute_result"
    }
   ],
   "source": [
    "img[:,:,0]-img[:,:,2]"
   ]
  },
  {
   "cell_type": "code",
   "execution_count": 78,
   "metadata": {},
   "outputs": [
    {
     "data": {
      "text/plain": [
       "<matplotlib.image.AxesImage at 0x180e5e1deb8>"
      ]
     },
     "execution_count": 78,
     "metadata": {},
     "output_type": "execute_result"
    },
    {
     "data": {
      "image/png": "[encoded data removed]",
      "text/plain": [
       "<Figure size 432x288 with 1 Axes>"
      ]
     },
     "metadata": {
      "needs_background": "light"
     },
     "output_type": "display_data"
    }
   ],
   "source": [
    "plt.imshow(img)"
   ]
  },
  {
   "cell_type": "code",
   "execution_count": null,
   "metadata": {},
   "outputs": [],
   "source": []
  },
  {
   "cell_type": "code",
   "execution_count": null,
   "metadata": {},
   "outputs": [],
   "source": []
  },
  {
   "cell_type": "code",
   "execution_count": null,
   "metadata": {},
   "outputs": [],
   "source": []
  },
  {
   "cell_type": "code",
   "execution_count": null,
   "metadata": {},
   "outputs": [],
   "source": []
  },
  {
   "cell_type": "code",
   "execution_count": null,
   "metadata": {},
   "outputs": [],
   "source": []
  },
  {
   "cell_type": "code",
   "execution_count": 7,
   "metadata": {},
   "outputs": [],
   "source": [
    "df = pd.read_excel('1000数据标注cj.xlsx',sheet_name='1000_data')"
   ]
  },
  {
   "cell_type": "code",
   "execution_count": 8,
   "metadata": {},
   "outputs": [],
   "source": [
    "df.columns = ['SID','ToT','Abn','Norm','nn','nn','nn']"
   ]
  },
  {
   "cell_type": "code",
   "execution_count": 9,
   "metadata": {},
   "outputs": [
    {
     "data": {
      "text/html": [
       "<div>\n",
       "<style scoped>\n",
       "    .dataframe tbody tr th:only-of-type {\n",
       "        vertical-align: middle;\n",
       "    }\n",
       "\n",
       "    .dataframe tbody tr th {\n",
       "        vertical-align: top;\n",
       "    }\n",
       "\n",
       "    .dataframe thead th {\n",
       "        text-align: right;\n",
       "    }\n",
       "</style>\n",
       "<table border=\"1\" class=\"dataframe\">\n",
       "  <thead>\n",
       "    <tr style=\"text-align: right;\">\n",
       "      <th></th>\n",
       "      <th>SID</th>\n",
       "      <th>ToT</th>\n",
       "      <th>Abn</th>\n",
       "      <th>Norm</th>\n",
       "      <th>nn</th>\n",
       "      <th>nn</th>\n",
       "      <th>nn</th>\n",
       "    </tr>\n",
       "  </thead>\n",
       "  <tbody>\n",
       "    <tr>\n",
       "      <th>2</th>\n",
       "      <td>8105.0</td>\n",
       "      <td>t01</td>\n",
       "      <td>ab00s06e16n01%ab01s18e24n01%ab03s27e41n01</td>\n",
       "      <td>nm00s0e06n02</td>\n",
       "      <td>NaN</td>\n",
       "      <td>NaN</td>\n",
       "      <td>NaN</td>\n",
       "    </tr>\n",
       "    <tr>\n",
       "      <th>3</th>\n",
       "      <td>8106.0</td>\n",
       "      <td>t02</td>\n",
       "      <td>ab00s07e09n01%ab01s25e32n01</td>\n",
       "      <td>nm00s0e07n02%nm01s09e25n02%nm02s32e42n02</td>\n",
       "      <td>NaN</td>\n",
       "      <td>NaN</td>\n",
       "      <td>NaN</td>\n",
       "    </tr>\n",
       "    <tr>\n",
       "      <th>4</th>\n",
       "      <td>8110.0</td>\n",
       "      <td>t02</td>\n",
       "      <td>ab00s23e27n02</td>\n",
       "      <td>nm00s0e23%nm01s28e43</td>\n",
       "      <td>NaN</td>\n",
       "      <td>NaN</td>\n",
       "      <td>NaN</td>\n",
       "    </tr>\n",
       "    <tr>\n",
       "      <th>5</th>\n",
       "      <td>8112.0</td>\n",
       "      <td>t01</td>\n",
       "      <td>ab00s31e35n02</td>\n",
       "      <td>nm00s0e30n02%nm01s35e42n02</td>\n",
       "      <td>NaN</td>\n",
       "      <td>NaN</td>\n",
       "      <td>NaN</td>\n",
       "    </tr>\n",
       "    <tr>\n",
       "      <th>6</th>\n",
       "      <td>8113.0</td>\n",
       "      <td>t01</td>\n",
       "      <td>ab00s0e09n01%ab01s10e35n02</td>\n",
       "      <td>NaN</td>\n",
       "      <td>NaN</td>\n",
       "      <td>NaN</td>\n",
       "      <td>NaN</td>\n",
       "    </tr>\n",
       "  </tbody>\n",
       "</table>\n",
       "</div>"
      ],
      "text/plain": [
       "      SID  ToT                                        Abn  \\\n",
       "2  8105.0  t01  ab00s06e16n01%ab01s18e24n01%ab03s27e41n01   \n",
       "3  8106.0  t02                ab00s07e09n01%ab01s25e32n01   \n",
       "4  8110.0  t02                              ab00s23e27n02   \n",
       "5  8112.0  t01                              ab00s31e35n02   \n",
       "6  8113.0  t01                 ab00s0e09n01%ab01s10e35n02   \n",
       "\n",
       "                                       Norm   nn   nn   nn  \n",
       "2                              nm00s0e06n02  NaN  NaN  NaN  \n",
       "3  nm00s0e07n02%nm01s09e25n02%nm02s32e42n02  NaN  NaN  NaN  \n",
       "4                      nm00s0e23%nm01s28e43  NaN  NaN  NaN  \n",
       "5                nm00s0e30n02%nm01s35e42n02  NaN  NaN  NaN  \n",
       "6                                       NaN  NaN  NaN  NaN  "
      ]
     },
     "execution_count": 9,
     "metadata": {},
     "output_type": "execute_result"
    }
   ],
   "source": [
    "df.dropna(subset=['ToT'],inplace=True)\n",
    "df.head()"
   ]
  },
  {
   "cell_type": "code",
   "execution_count": 10,
   "metadata": {},
   "outputs": [
    {
     "data": {
      "text/html": [
       "<div>\n",
       "<style scoped>\n",
       "    .dataframe tbody tr th:only-of-type {\n",
       "        vertical-align: middle;\n",
       "    }\n",
       "\n",
       "    .dataframe tbody tr th {\n",
       "        vertical-align: top;\n",
       "    }\n",
       "\n",
       "    .dataframe thead th {\n",
       "        text-align: right;\n",
       "    }\n",
       "</style>\n",
       "<table border=\"1\" class=\"dataframe\">\n",
       "  <thead>\n",
       "    <tr style=\"text-align: right;\">\n",
       "      <th></th>\n",
       "      <th>SID</th>\n",
       "      <th>ToT</th>\n",
       "      <th>Abn</th>\n",
       "      <th>Norm</th>\n",
       "      <th>nn</th>\n",
       "      <th>nn</th>\n",
       "      <th>nn</th>\n",
       "    </tr>\n",
       "  </thead>\n",
       "  <tbody>\n",
       "    <tr>\n",
       "      <th>0</th>\n",
       "      <td>8105.0</td>\n",
       "      <td>t01</td>\n",
       "      <td>ab00s06e16n01%ab01s18e24n01%ab03s27e41n01</td>\n",
       "      <td>nm00s0e06n02</td>\n",
       "      <td>NaN</td>\n",
       "      <td>NaN</td>\n",
       "      <td>NaN</td>\n",
       "    </tr>\n",
       "    <tr>\n",
       "      <th>1</th>\n",
       "      <td>8106.0</td>\n",
       "      <td>t02</td>\n",
       "      <td>ab00s07e09n01%ab01s25e32n01</td>\n",
       "      <td>nm00s0e07n02%nm01s09e25n02%nm02s32e42n02</td>\n",
       "      <td>NaN</td>\n",
       "      <td>NaN</td>\n",
       "      <td>NaN</td>\n",
       "    </tr>\n",
       "    <tr>\n",
       "      <th>2</th>\n",
       "      <td>8110.0</td>\n",
       "      <td>t02</td>\n",
       "      <td>ab00s23e27n02</td>\n",
       "      <td>nm00s0e23%nm01s28e43</td>\n",
       "      <td>NaN</td>\n",
       "      <td>NaN</td>\n",
       "      <td>NaN</td>\n",
       "    </tr>\n",
       "    <tr>\n",
       "      <th>3</th>\n",
       "      <td>8112.0</td>\n",
       "      <td>t01</td>\n",
       "      <td>ab00s31e35n02</td>\n",
       "      <td>nm00s0e30n02%nm01s35e42n02</td>\n",
       "      <td>NaN</td>\n",
       "      <td>NaN</td>\n",
       "      <td>NaN</td>\n",
       "    </tr>\n",
       "    <tr>\n",
       "      <th>4</th>\n",
       "      <td>8113.0</td>\n",
       "      <td>t01</td>\n",
       "      <td>ab00s0e09n01%ab01s10e35n02</td>\n",
       "      <td>NaN</td>\n",
       "      <td>NaN</td>\n",
       "      <td>NaN</td>\n",
       "      <td>NaN</td>\n",
       "    </tr>\n",
       "  </tbody>\n",
       "</table>\n",
       "</div>"
      ],
      "text/plain": [
       "      SID  ToT                                        Abn  \\\n",
       "0  8105.0  t01  ab00s06e16n01%ab01s18e24n01%ab03s27e41n01   \n",
       "1  8106.0  t02                ab00s07e09n01%ab01s25e32n01   \n",
       "2  8110.0  t02                              ab00s23e27n02   \n",
       "3  8112.0  t01                              ab00s31e35n02   \n",
       "4  8113.0  t01                 ab00s0e09n01%ab01s10e35n02   \n",
       "\n",
       "                                       Norm   nn   nn   nn  \n",
       "0                              nm00s0e06n02  NaN  NaN  NaN  \n",
       "1  nm00s0e07n02%nm01s09e25n02%nm02s32e42n02  NaN  NaN  NaN  \n",
       "2                      nm00s0e23%nm01s28e43  NaN  NaN  NaN  \n",
       "3                nm00s0e30n02%nm01s35e42n02  NaN  NaN  NaN  \n",
       "4                                       NaN  NaN  NaN  NaN  "
      ]
     },
     "execution_count": 10,
     "metadata": {},
     "output_type": "execute_result"
    }
   ],
   "source": [
    "df.reset_index(drop=True, inplace=True)\n",
    "df.head()"
   ]
  },
  {
   "cell_type": "code",
   "execution_count": null,
   "metadata": {},
   "outputs": [],
   "source": [
    "# segment different description with '%'\n",
    "# note that there may be missing some %\n",
    "key_list=[]\n",
    "Tot_list=[]\n",
    "Sig_list = []\n",
    "\n",
    "for idx,index in tqdm(enumerate(df['SID'])):\n",
    "    \n",
    "    n_abn = 0\n",
    "    n_norm = 0\n",
    "    if isinstance(df.Abn[idx],str):\n",
    "        abn_data = df.Abn[idx].split('%')\n",
    "        n_abn = len(abn_data)\n",
    "    if isinstance(df.Norm[idx],str):\n",
    "        norm_data = df.Norm[idx].split('%')\n",
    "        n_norm = len(norm_data)\n",
    "    print(index,n_abn,n_norm)\n",
    "    \n",
    "    for i in range(n_abn):\n",
    "        name = str(int(index))+'_a_'+str(i)\n",
    "        key_list.append(name)\n",
    "        Sig_list.append(abn_data[i])\n",
    "        Tot_list.append(df.ToT[idx])\n",
    "        \n",
    "    for i in range(n_norm):\n",
    "        name = str(int(index))+'_n_'+str(i)\n",
    "        key_list.append(name)\n",
    "        Sig_list.append(norm_data[i])\n",
    "        Tot_list.append(df.ToT[idx])\n",
    "        \n",
    "\n",
    "data = pd.DataFrame({'index':key_list,\n",
    "                     'ToT':Tot_list,\n",
    "                     'Signal':Sig_list\n",
    "                     })\n",
    "\n",
    "data.sort_values(by='index',inplace=True)\n",
    "\n",
    "csv_name = 'main_csv.csv' #main_step1.csv\n",
    "\n",
    "data.to_csv(csv_name,index = False,sep = ',')"
   ]
  },
  {
   "cell_type": "code",
   "execution_count": 27,
   "metadata": {},
   "outputs": [],
   "source": [
    "csv_name = 'main_csv.csv'\n",
    "data = pd.read_csv(csv_name)"
   ]
  },
  {
   "cell_type": "code",
   "execution_count": 28,
   "metadata": {},
   "outputs": [
    {
     "data": {
      "text/html": [
       "<div>\n",
       "<style scoped>\n",
       "    .dataframe tbody tr th:only-of-type {\n",
       "        vertical-align: middle;\n",
       "    }\n",
       "\n",
       "    .dataframe tbody tr th {\n",
       "        vertical-align: top;\n",
       "    }\n",
       "\n",
       "    .dataframe thead th {\n",
       "        text-align: right;\n",
       "    }\n",
       "</style>\n",
       "<table border=\"1\" class=\"dataframe\">\n",
       "  <thead>\n",
       "    <tr style=\"text-align: right;\">\n",
       "      <th></th>\n",
       "      <th>index</th>\n",
       "      <th>ToT</th>\n",
       "      <th>Signal</th>\n",
       "    </tr>\n",
       "  </thead>\n",
       "  <tbody>\n",
       "    <tr>\n",
       "      <th>0</th>\n",
       "      <td>10013_a_0</td>\n",
       "      <td>t02</td>\n",
       "      <td>ab00s0e04n07</td>\n",
       "    </tr>\n",
       "    <tr>\n",
       "      <th>1</th>\n",
       "      <td>10013_a_1</td>\n",
       "      <td>t02</td>\n",
       "      <td>ab01s08e09n07</td>\n",
       "    </tr>\n",
       "    <tr>\n",
       "      <th>2</th>\n",
       "      <td>10013_a_2</td>\n",
       "      <td>t02</td>\n",
       "      <td>ab02s18e20n07</td>\n",
       "    </tr>\n",
       "    <tr>\n",
       "      <th>3</th>\n",
       "      <td>10013_n_0</td>\n",
       "      <td>t02</td>\n",
       "      <td>nm00s20e28</td>\n",
       "    </tr>\n",
       "    <tr>\n",
       "      <th>4</th>\n",
       "      <td>10017_a_0</td>\n",
       "      <td>t02</td>\n",
       "      <td>ab00s0e05n07</td>\n",
       "    </tr>\n",
       "  </tbody>\n",
       "</table>\n",
       "</div>"
      ],
      "text/plain": [
       "       index  ToT         Signal\n",
       "0  10013_a_0  t02   ab00s0e04n07\n",
       "1  10013_a_1  t02  ab01s08e09n07\n",
       "2  10013_a_2  t02  ab02s18e20n07\n",
       "3  10013_n_0  t02     nm00s20e28\n",
       "4  10017_a_0  t02   ab00s0e05n07"
      ]
     },
     "execution_count": 28,
     "metadata": {},
     "output_type": "execute_result"
    }
   ],
   "source": [
    "data.head()"
   ]
  },
  {
   "cell_type": "code",
   "execution_count": 29,
   "metadata": {},
   "outputs": [],
   "source": [
    "data['norm'] = data.apply(lambda x: x['index'].split('_')[1], axis=1)"
   ]
  },
  {
   "cell_type": "code",
   "execution_count": 30,
   "metadata": {},
   "outputs": [],
   "source": [
    "data['intact']=data.apply(lambda x: 1 if ('s' in x['Signal']) & ('e' in x['Signal']) else 0, axis = 1)"
   ]
  },
  {
   "cell_type": "code",
   "execution_count": 31,
   "metadata": {},
   "outputs": [
    {
     "data": {
      "text/plain": [
       "1    1152\n",
       "0       6\n",
       "Name: intact, dtype: int64"
      ]
     },
     "execution_count": 31,
     "metadata": {},
     "output_type": "execute_result"
    },
    {
     "data": {
      "image/png": "[encoded data removed]",
      "text/plain": [
       "<Figure size 432x288 with 1 Axes>"
      ]
     },
     "metadata": {
      "needs_background": "light"
     },
     "output_type": "display_data"
    }
   ],
   "source": [
    "hist = data.intact.hist()\n",
    "data.intact.value_counts()"
   ]
  },
  {
   "cell_type": "code",
   "execution_count": 32,
   "metadata": {},
   "outputs": [],
   "source": [
    "data_c=data[~data['intact'].isin([0])]"
   ]
  },
  {
   "cell_type": "code",
   "execution_count": 33,
   "metadata": {},
   "outputs": [
    {
     "data": {
      "text/plain": [
       "1    1152\n",
       "Name: intact, dtype: int64"
      ]
     },
     "execution_count": 33,
     "metadata": {},
     "output_type": "execute_result"
    },
    {
     "data": {
      "image/png": "[encoded data removed]",
      "text/plain": [
       "<Figure size 432x288 with 1 Axes>"
      ]
     },
     "metadata": {
      "needs_background": "light"
     },
     "output_type": "display_data"
    }
   ],
   "source": [
    "hist = data_c.intact.hist()\n",
    "data_c.intact.value_counts()"
   ]
  },
  {
   "cell_type": "code",
   "execution_count": 34,
   "metadata": {
    "scrolled": true
   },
   "outputs": [
    {
     "name": "stderr",
     "output_type": "stream",
     "text": [
      "C:\\Users\\lvxin\\Anaconda3\\envs\\fastai\\lib\\site-packages\\ipykernel_launcher.py:1: SettingWithCopyWarning: \n",
      "A value is trying to be set on a copy of a slice from a DataFrame.\n",
      "Try using .loc[row_indexer,col_indexer] = value instead\n",
      "\n",
      "See the caveats in the documentation: https://pandas.pydata.org/pandas-docs/stable/user_guide/indexing.html#returning-a-view-versus-a-copy\n",
      "  \"\"\"Entry point for launching an IPython kernel.\n"
     ]
    }
   ],
   "source": [
    "data_c['Start'] = data_c.apply(lambda x:x['Signal'].split('s')[1].split('e')[0],axis=1)"
   ]
  },
  {
   "cell_type": "code",
   "execution_count": 35,
   "metadata": {},
   "outputs": [
    {
     "data": {
      "text/html": [
       "<div>\n",
       "<style scoped>\n",
       "    .dataframe tbody tr th:only-of-type {\n",
       "        vertical-align: middle;\n",
       "    }\n",
       "\n",
       "    .dataframe tbody tr th {\n",
       "        vertical-align: top;\n",
       "    }\n",
       "\n",
       "    .dataframe thead th {\n",
       "        text-align: right;\n",
       "    }\n",
       "</style>\n",
       "<table border=\"1\" class=\"dataframe\">\n",
       "  <thead>\n",
       "    <tr style=\"text-align: right;\">\n",
       "      <th></th>\n",
       "      <th>index</th>\n",
       "      <th>ToT</th>\n",
       "      <th>Signal</th>\n",
       "      <th>norm</th>\n",
       "      <th>intact</th>\n",
       "      <th>Start</th>\n",
       "    </tr>\n",
       "  </thead>\n",
       "  <tbody>\n",
       "    <tr>\n",
       "      <th>0</th>\n",
       "      <td>10013_a_0</td>\n",
       "      <td>t02</td>\n",
       "      <td>ab00s0e04n07</td>\n",
       "      <td>a</td>\n",
       "      <td>1</td>\n",
       "      <td>0</td>\n",
       "    </tr>\n",
       "    <tr>\n",
       "      <th>1</th>\n",
       "      <td>10013_a_1</td>\n",
       "      <td>t02</td>\n",
       "      <td>ab01s08e09n07</td>\n",
       "      <td>a</td>\n",
       "      <td>1</td>\n",
       "      <td>08</td>\n",
       "    </tr>\n",
       "    <tr>\n",
       "      <th>2</th>\n",
       "      <td>10013_a_2</td>\n",
       "      <td>t02</td>\n",
       "      <td>ab02s18e20n07</td>\n",
       "      <td>a</td>\n",
       "      <td>1</td>\n",
       "      <td>18</td>\n",
       "    </tr>\n",
       "    <tr>\n",
       "      <th>3</th>\n",
       "      <td>10013_n_0</td>\n",
       "      <td>t02</td>\n",
       "      <td>nm00s20e28</td>\n",
       "      <td>n</td>\n",
       "      <td>1</td>\n",
       "      <td>20</td>\n",
       "    </tr>\n",
       "    <tr>\n",
       "      <th>4</th>\n",
       "      <td>10017_a_0</td>\n",
       "      <td>t02</td>\n",
       "      <td>ab00s0e05n07</td>\n",
       "      <td>a</td>\n",
       "      <td>1</td>\n",
       "      <td>0</td>\n",
       "    </tr>\n",
       "  </tbody>\n",
       "</table>\n",
       "</div>"
      ],
      "text/plain": [
       "       index  ToT         Signal norm  intact Start\n",
       "0  10013_a_0  t02   ab00s0e04n07    a       1     0\n",
       "1  10013_a_1  t02  ab01s08e09n07    a       1    08\n",
       "2  10013_a_2  t02  ab02s18e20n07    a       1    18\n",
       "3  10013_n_0  t02     nm00s20e28    n       1    20\n",
       "4  10017_a_0  t02   ab00s0e05n07    a       1     0"
      ]
     },
     "execution_count": 35,
     "metadata": {},
     "output_type": "execute_result"
    }
   ],
   "source": [
    "data_c.head()"
   ]
  },
  {
   "cell_type": "code",
   "execution_count": 37,
   "metadata": {},
   "outputs": [
    {
     "name": "stderr",
     "output_type": "stream",
     "text": [
      "C:\\Users\\lvxin\\Anaconda3\\envs\\fastai\\lib\\site-packages\\ipykernel_launcher.py:1: SettingWithCopyWarning: \n",
      "A value is trying to be set on a copy of a slice from a DataFrame.\n",
      "Try using .loc[row_indexer,col_indexer] = value instead\n",
      "\n",
      "See the caveats in the documentation: https://pandas.pydata.org/pandas-docs/stable/user_guide/indexing.html#returning-a-view-versus-a-copy\n",
      "  \"\"\"Entry point for launching an IPython kernel.\n"
     ]
    }
   ],
   "source": [
    "data_c['End'] = data_c.apply(lambda x:x['Signal'].split('e')[1],axis=1)"
   ]
  },
  {
   "cell_type": "code",
   "execution_count": 38,
   "metadata": {
    "scrolled": true
   },
   "outputs": [
    {
     "name": "stderr",
     "output_type": "stream",
     "text": [
      "C:\\Users\\lvxin\\Anaconda3\\envs\\fastai\\lib\\site-packages\\ipykernel_launcher.py:1: SettingWithCopyWarning: \n",
      "A value is trying to be set on a copy of a slice from a DataFrame.\n",
      "Try using .loc[row_indexer,col_indexer] = value instead\n",
      "\n",
      "See the caveats in the documentation: https://pandas.pydata.org/pandas-docs/stable/user_guide/indexing.html#returning-a-view-versus-a-copy\n",
      "  \"\"\"Entry point for launching an IPython kernel.\n"
     ]
    }
   ],
   "source": [
    "data_c['End'] = data_c.apply(lambda x: x['End'].split('n')[0] if 'n' in x['End'] else x['End'], axis=1)"
   ]
  },
  {
   "cell_type": "code",
   "execution_count": 39,
   "metadata": {},
   "outputs": [
    {
     "data": {
      "text/html": [
       "<div>\n",
       "<style scoped>\n",
       "    .dataframe tbody tr th:only-of-type {\n",
       "        vertical-align: middle;\n",
       "    }\n",
       "\n",
       "    .dataframe tbody tr th {\n",
       "        vertical-align: top;\n",
       "    }\n",
       "\n",
       "    .dataframe thead th {\n",
       "        text-align: right;\n",
       "    }\n",
       "</style>\n",
       "<table border=\"1\" class=\"dataframe\">\n",
       "  <thead>\n",
       "    <tr style=\"text-align: right;\">\n",
       "      <th></th>\n",
       "      <th>index</th>\n",
       "      <th>ToT</th>\n",
       "      <th>Signal</th>\n",
       "      <th>norm</th>\n",
       "      <th>intact</th>\n",
       "      <th>Start</th>\n",
       "      <th>End</th>\n",
       "    </tr>\n",
       "  </thead>\n",
       "  <tbody>\n",
       "    <tr>\n",
       "      <th>0</th>\n",
       "      <td>10013_a_0</td>\n",
       "      <td>t02</td>\n",
       "      <td>ab00s0e04n07</td>\n",
       "      <td>a</td>\n",
       "      <td>1</td>\n",
       "      <td>0</td>\n",
       "      <td>04</td>\n",
       "    </tr>\n",
       "    <tr>\n",
       "      <th>1</th>\n",
       "      <td>10013_a_1</td>\n",
       "      <td>t02</td>\n",
       "      <td>ab01s08e09n07</td>\n",
       "      <td>a</td>\n",
       "      <td>1</td>\n",
       "      <td>08</td>\n",
       "      <td>09</td>\n",
       "    </tr>\n",
       "    <tr>\n",
       "      <th>2</th>\n",
       "      <td>10013_a_2</td>\n",
       "      <td>t02</td>\n",
       "      <td>ab02s18e20n07</td>\n",
       "      <td>a</td>\n",
       "      <td>1</td>\n",
       "      <td>18</td>\n",
       "      <td>20</td>\n",
       "    </tr>\n",
       "    <tr>\n",
       "      <th>3</th>\n",
       "      <td>10013_n_0</td>\n",
       "      <td>t02</td>\n",
       "      <td>nm00s20e28</td>\n",
       "      <td>n</td>\n",
       "      <td>1</td>\n",
       "      <td>20</td>\n",
       "      <td>28</td>\n",
       "    </tr>\n",
       "    <tr>\n",
       "      <th>4</th>\n",
       "      <td>10017_a_0</td>\n",
       "      <td>t02</td>\n",
       "      <td>ab00s0e05n07</td>\n",
       "      <td>a</td>\n",
       "      <td>1</td>\n",
       "      <td>0</td>\n",
       "      <td>05</td>\n",
       "    </tr>\n",
       "  </tbody>\n",
       "</table>\n",
       "</div>"
      ],
      "text/plain": [
       "       index  ToT         Signal norm  intact Start End\n",
       "0  10013_a_0  t02   ab00s0e04n07    a       1     0  04\n",
       "1  10013_a_1  t02  ab01s08e09n07    a       1    08  09\n",
       "2  10013_a_2  t02  ab02s18e20n07    a       1    18  20\n",
       "3  10013_n_0  t02     nm00s20e28    n       1    20  28\n",
       "4  10017_a_0  t02   ab00s0e05n07    a       1     0  05"
      ]
     },
     "execution_count": 39,
     "metadata": {},
     "output_type": "execute_result"
    }
   ],
   "source": [
    "data_c.head()"
   ]
  },
  {
   "cell_type": "code",
   "execution_count": 40,
   "metadata": {
    "scrolled": true
   },
   "outputs": [
    {
     "ename": "ValueError",
     "evalue": "invalid literal for int() with base 10: '42s'",
     "output_type": "error",
     "traceback": [
      "\u001b[1;31m---------------------------------------------------------------------------\u001b[0m",
      "\u001b[1;31mValueError\u001b[0m                                Traceback (most recent call last)",
      "\u001b[1;32m<ipython-input-40-e450f4067e66>\u001b[0m in \u001b[0;36m<module>\u001b[1;34m\u001b[0m\n\u001b[1;32m----> 1\u001b[1;33m \u001b[0mdata_c\u001b[0m\u001b[1;33m[\u001b[0m\u001b[1;34m'Length'\u001b[0m\u001b[1;33m]\u001b[0m \u001b[1;33m=\u001b[0m \u001b[0mdata_c\u001b[0m\u001b[1;33m.\u001b[0m\u001b[0mapply\u001b[0m\u001b[1;33m(\u001b[0m\u001b[1;32mlambda\u001b[0m \u001b[0mx\u001b[0m\u001b[1;33m:\u001b[0m \u001b[0mint\u001b[0m\u001b[1;33m(\u001b[0m\u001b[0mx\u001b[0m\u001b[1;33m[\u001b[0m\u001b[1;34m'End'\u001b[0m\u001b[1;33m]\u001b[0m\u001b[1;33m)\u001b[0m\u001b[1;33m-\u001b[0m\u001b[0mint\u001b[0m\u001b[1;33m(\u001b[0m\u001b[0mx\u001b[0m\u001b[1;33m[\u001b[0m\u001b[1;34m'Start'\u001b[0m\u001b[1;33m]\u001b[0m\u001b[1;33m)\u001b[0m\u001b[1;33m,\u001b[0m \u001b[0maxis\u001b[0m\u001b[1;33m=\u001b[0m\u001b[1;36m1\u001b[0m\u001b[1;33m)\u001b[0m\u001b[1;33m\u001b[0m\u001b[1;33m\u001b[0m\u001b[0m\n\u001b[0m",
      "\u001b[1;32m~\\Anaconda3\\envs\\fastai\\lib\\site-packages\\pandas\\core\\frame.py\u001b[0m in \u001b[0;36mapply\u001b[1;34m(self, func, axis, raw, result_type, args, **kwds)\u001b[0m\n\u001b[0;32m   6876\u001b[0m             \u001b[0mkwds\u001b[0m\u001b[1;33m=\u001b[0m\u001b[0mkwds\u001b[0m\u001b[1;33m,\u001b[0m\u001b[1;33m\u001b[0m\u001b[1;33m\u001b[0m\u001b[0m\n\u001b[0;32m   6877\u001b[0m         )\n\u001b[1;32m-> 6878\u001b[1;33m         \u001b[1;32mreturn\u001b[0m \u001b[0mop\u001b[0m\u001b[1;33m.\u001b[0m\u001b[0mget_result\u001b[0m\u001b[1;33m(\u001b[0m\u001b[1;33m)\u001b[0m\u001b[1;33m\u001b[0m\u001b[1;33m\u001b[0m\u001b[0m\n\u001b[0m\u001b[0;32m   6879\u001b[0m \u001b[1;33m\u001b[0m\u001b[0m\n\u001b[0;32m   6880\u001b[0m     \u001b[1;32mdef\u001b[0m \u001b[0mapplymap\u001b[0m\u001b[1;33m(\u001b[0m\u001b[0mself\u001b[0m\u001b[1;33m,\u001b[0m \u001b[0mfunc\u001b[0m\u001b[1;33m)\u001b[0m \u001b[1;33m->\u001b[0m \u001b[1;34m\"DataFrame\"\u001b[0m\u001b[1;33m:\u001b[0m\u001b[1;33m\u001b[0m\u001b[1;33m\u001b[0m\u001b[0m\n",
      "\u001b[1;32m~\\Anaconda3\\envs\\fastai\\lib\\site-packages\\pandas\\core\\apply.py\u001b[0m in \u001b[0;36mget_result\u001b[1;34m(self)\u001b[0m\n\u001b[0;32m    184\u001b[0m             \u001b[1;32mreturn\u001b[0m \u001b[0mself\u001b[0m\u001b[1;33m.\u001b[0m\u001b[0mapply_raw\u001b[0m\u001b[1;33m(\u001b[0m\u001b[1;33m)\u001b[0m\u001b[1;33m\u001b[0m\u001b[1;33m\u001b[0m\u001b[0m\n\u001b[0;32m    185\u001b[0m \u001b[1;33m\u001b[0m\u001b[0m\n\u001b[1;32m--> 186\u001b[1;33m         \u001b[1;32mreturn\u001b[0m \u001b[0mself\u001b[0m\u001b[1;33m.\u001b[0m\u001b[0mapply_standard\u001b[0m\u001b[1;33m(\u001b[0m\u001b[1;33m)\u001b[0m\u001b[1;33m\u001b[0m\u001b[1;33m\u001b[0m\u001b[0m\n\u001b[0m\u001b[0;32m    187\u001b[0m \u001b[1;33m\u001b[0m\u001b[0m\n\u001b[0;32m    188\u001b[0m     \u001b[1;32mdef\u001b[0m \u001b[0mapply_empty_result\u001b[0m\u001b[1;33m(\u001b[0m\u001b[0mself\u001b[0m\u001b[1;33m)\u001b[0m\u001b[1;33m:\u001b[0m\u001b[1;33m\u001b[0m\u001b[1;33m\u001b[0m\u001b[0m\n",
      "\u001b[1;32m~\\Anaconda3\\envs\\fastai\\lib\\site-packages\\pandas\\core\\apply.py\u001b[0m in \u001b[0;36mapply_standard\u001b[1;34m(self)\u001b[0m\n\u001b[0;32m    294\u001b[0m             \u001b[1;32mtry\u001b[0m\u001b[1;33m:\u001b[0m\u001b[1;33m\u001b[0m\u001b[1;33m\u001b[0m\u001b[0m\n\u001b[0;32m    295\u001b[0m                 result = libreduction.compute_reduction(\n\u001b[1;32m--> 296\u001b[1;33m                     \u001b[0mvalues\u001b[0m\u001b[1;33m,\u001b[0m \u001b[0mself\u001b[0m\u001b[1;33m.\u001b[0m\u001b[0mf\u001b[0m\u001b[1;33m,\u001b[0m \u001b[0maxis\u001b[0m\u001b[1;33m=\u001b[0m\u001b[0mself\u001b[0m\u001b[1;33m.\u001b[0m\u001b[0maxis\u001b[0m\u001b[1;33m,\u001b[0m \u001b[0mdummy\u001b[0m\u001b[1;33m=\u001b[0m\u001b[0mdummy\u001b[0m\u001b[1;33m,\u001b[0m \u001b[0mlabels\u001b[0m\u001b[1;33m=\u001b[0m\u001b[0mlabels\u001b[0m\u001b[1;33m\u001b[0m\u001b[1;33m\u001b[0m\u001b[0m\n\u001b[0m\u001b[0;32m    297\u001b[0m                 )\n\u001b[0;32m    298\u001b[0m             \u001b[1;32mexcept\u001b[0m \u001b[0mValueError\u001b[0m \u001b[1;32mas\u001b[0m \u001b[0merr\u001b[0m\u001b[1;33m:\u001b[0m\u001b[1;33m\u001b[0m\u001b[1;33m\u001b[0m\u001b[0m\n",
      "\u001b[1;32mpandas\\_libs\\reduction.pyx\u001b[0m in \u001b[0;36mpandas._libs.reduction.compute_reduction\u001b[1;34m()\u001b[0m\n",
      "\u001b[1;32mpandas\\_libs\\reduction.pyx\u001b[0m in \u001b[0;36mpandas._libs.reduction.Reducer.get_result\u001b[1;34m()\u001b[0m\n",
      "\u001b[1;32m<ipython-input-40-e450f4067e66>\u001b[0m in \u001b[0;36m<lambda>\u001b[1;34m(x)\u001b[0m\n\u001b[1;32m----> 1\u001b[1;33m \u001b[0mdata_c\u001b[0m\u001b[1;33m[\u001b[0m\u001b[1;34m'Length'\u001b[0m\u001b[1;33m]\u001b[0m \u001b[1;33m=\u001b[0m \u001b[0mdata_c\u001b[0m\u001b[1;33m.\u001b[0m\u001b[0mapply\u001b[0m\u001b[1;33m(\u001b[0m\u001b[1;32mlambda\u001b[0m \u001b[0mx\u001b[0m\u001b[1;33m:\u001b[0m \u001b[0mint\u001b[0m\u001b[1;33m(\u001b[0m\u001b[0mx\u001b[0m\u001b[1;33m[\u001b[0m\u001b[1;34m'End'\u001b[0m\u001b[1;33m]\u001b[0m\u001b[1;33m)\u001b[0m\u001b[1;33m-\u001b[0m\u001b[0mint\u001b[0m\u001b[1;33m(\u001b[0m\u001b[0mx\u001b[0m\u001b[1;33m[\u001b[0m\u001b[1;34m'Start'\u001b[0m\u001b[1;33m]\u001b[0m\u001b[1;33m)\u001b[0m\u001b[1;33m,\u001b[0m \u001b[0maxis\u001b[0m\u001b[1;33m=\u001b[0m\u001b[1;36m1\u001b[0m\u001b[1;33m)\u001b[0m\u001b[1;33m\u001b[0m\u001b[1;33m\u001b[0m\u001b[0m\n\u001b[0m",
      "\u001b[1;31mValueError\u001b[0m: invalid literal for int() with base 10: '42s'"
     ]
    }
   ],
   "source": [
    "data_c['Length'] = data_c.apply(lambda x: int(x['End'])-int(x['Start']), axis=1)"
   ]
  },
  {
   "cell_type": "code",
   "execution_count": 41,
   "metadata": {},
   "outputs": [
    {
     "data": {
      "text/html": [
       "<div>\n",
       "<style scoped>\n",
       "    .dataframe tbody tr th:only-of-type {\n",
       "        vertical-align: middle;\n",
       "    }\n",
       "\n",
       "    .dataframe tbody tr th {\n",
       "        vertical-align: top;\n",
       "    }\n",
       "\n",
       "    .dataframe thead th {\n",
       "        text-align: right;\n",
       "    }\n",
       "</style>\n",
       "<table border=\"1\" class=\"dataframe\">\n",
       "  <thead>\n",
       "    <tr style=\"text-align: right;\">\n",
       "      <th></th>\n",
       "      <th>index</th>\n",
       "      <th>ToT</th>\n",
       "      <th>Signal</th>\n",
       "      <th>norm</th>\n",
       "      <th>intact</th>\n",
       "      <th>Start</th>\n",
       "      <th>End</th>\n",
       "    </tr>\n",
       "  </thead>\n",
       "  <tbody>\n",
       "    <tr>\n",
       "      <th>205</th>\n",
       "      <td>10947_a_1</td>\n",
       "      <td>t02</td>\n",
       "      <td>ab01s38e42sn03</td>\n",
       "      <td>a</td>\n",
       "      <td>1</td>\n",
       "      <td>38</td>\n",
       "      <td>42s</td>\n",
       "    </tr>\n",
       "  </tbody>\n",
       "</table>\n",
       "</div>"
      ],
      "text/plain": [
       "         index  ToT          Signal norm  intact Start  End\n",
       "205  10947_a_1  t02  ab01s38e42sn03    a       1    38  42s"
      ]
     },
     "execution_count": 41,
     "metadata": {},
     "output_type": "execute_result"
    }
   ],
   "source": [
    "data_c[data_c['End']=='42s']\n",
    "#data_c[data_c.Length.isin([-494])]"
   ]
  },
  {
   "cell_type": "code",
   "execution_count": 42,
   "metadata": {},
   "outputs": [
    {
     "data": {
      "text/plain": [
       "'42s'"
      ]
     },
     "execution_count": 42,
     "metadata": {},
     "output_type": "execute_result"
    }
   ],
   "source": [
    "data_c.loc[205,'End']"
   ]
  },
  {
   "cell_type": "code",
   "execution_count": 43,
   "metadata": {
    "scrolled": true
   },
   "outputs": [
    {
     "name": "stderr",
     "output_type": "stream",
     "text": [
      "C:\\Users\\lvxin\\Anaconda3\\envs\\fastai\\lib\\site-packages\\pandas\\core\\indexing.py:966: SettingWithCopyWarning: \n",
      "A value is trying to be set on a copy of a slice from a DataFrame.\n",
      "Try using .loc[row_indexer,col_indexer] = value instead\n",
      "\n",
      "See the caveats in the documentation: https://pandas.pydata.org/pandas-docs/stable/user_guide/indexing.html#returning-a-view-versus-a-copy\n",
      "  self.obj[item] = s\n"
     ]
    }
   ],
   "source": [
    "data_c.loc[205,'End']=42"
   ]
  },
  {
   "cell_type": "code",
   "execution_count": 44,
   "metadata": {},
   "outputs": [
    {
     "data": {
      "text/plain": [
       "42"
      ]
     },
     "execution_count": 44,
     "metadata": {},
     "output_type": "execute_result"
    }
   ],
   "source": [
    "data_c.loc[205,'End']"
   ]
  },
  {
   "cell_type": "code",
   "execution_count": 45,
   "metadata": {},
   "outputs": [
    {
     "name": "stderr",
     "output_type": "stream",
     "text": [
      "C:\\Users\\lvxin\\Anaconda3\\envs\\fastai\\lib\\site-packages\\ipykernel_launcher.py:1: SettingWithCopyWarning: \n",
      "A value is trying to be set on a copy of a slice from a DataFrame.\n",
      "Try using .loc[row_indexer,col_indexer] = value instead\n",
      "\n",
      "See the caveats in the documentation: https://pandas.pydata.org/pandas-docs/stable/user_guide/indexing.html#returning-a-view-versus-a-copy\n",
      "  \"\"\"Entry point for launching an IPython kernel.\n"
     ]
    }
   ],
   "source": [
    "data_c['Length'] = data_c.apply(lambda x: int(x['End'])-int(x['Start']), axis=1)"
   ]
  },
  {
   "cell_type": "code",
   "execution_count": 46,
   "metadata": {},
   "outputs": [
    {
     "data": {
      "text/html": [
       "<div>\n",
       "<style scoped>\n",
       "    .dataframe tbody tr th:only-of-type {\n",
       "        vertical-align: middle;\n",
       "    }\n",
       "\n",
       "    .dataframe tbody tr th {\n",
       "        vertical-align: top;\n",
       "    }\n",
       "\n",
       "    .dataframe thead th {\n",
       "        text-align: right;\n",
       "    }\n",
       "</style>\n",
       "<table border=\"1\" class=\"dataframe\">\n",
       "  <thead>\n",
       "    <tr style=\"text-align: right;\">\n",
       "      <th></th>\n",
       "      <th>index</th>\n",
       "      <th>ToT</th>\n",
       "      <th>Signal</th>\n",
       "      <th>norm</th>\n",
       "      <th>intact</th>\n",
       "      <th>Start</th>\n",
       "      <th>End</th>\n",
       "      <th>Length</th>\n",
       "    </tr>\n",
       "  </thead>\n",
       "  <tbody>\n",
       "    <tr>\n",
       "      <th>0</th>\n",
       "      <td>10013_a_0</td>\n",
       "      <td>t02</td>\n",
       "      <td>ab00s0e04n07</td>\n",
       "      <td>a</td>\n",
       "      <td>1</td>\n",
       "      <td>0</td>\n",
       "      <td>04</td>\n",
       "      <td>4</td>\n",
       "    </tr>\n",
       "    <tr>\n",
       "      <th>1</th>\n",
       "      <td>10013_a_1</td>\n",
       "      <td>t02</td>\n",
       "      <td>ab01s08e09n07</td>\n",
       "      <td>a</td>\n",
       "      <td>1</td>\n",
       "      <td>08</td>\n",
       "      <td>09</td>\n",
       "      <td>1</td>\n",
       "    </tr>\n",
       "    <tr>\n",
       "      <th>2</th>\n",
       "      <td>10013_a_2</td>\n",
       "      <td>t02</td>\n",
       "      <td>ab02s18e20n07</td>\n",
       "      <td>a</td>\n",
       "      <td>1</td>\n",
       "      <td>18</td>\n",
       "      <td>20</td>\n",
       "      <td>2</td>\n",
       "    </tr>\n",
       "    <tr>\n",
       "      <th>3</th>\n",
       "      <td>10013_n_0</td>\n",
       "      <td>t02</td>\n",
       "      <td>nm00s20e28</td>\n",
       "      <td>n</td>\n",
       "      <td>1</td>\n",
       "      <td>20</td>\n",
       "      <td>28</td>\n",
       "      <td>8</td>\n",
       "    </tr>\n",
       "    <tr>\n",
       "      <th>4</th>\n",
       "      <td>10017_a_0</td>\n",
       "      <td>t02</td>\n",
       "      <td>ab00s0e05n07</td>\n",
       "      <td>a</td>\n",
       "      <td>1</td>\n",
       "      <td>0</td>\n",
       "      <td>05</td>\n",
       "      <td>5</td>\n",
       "    </tr>\n",
       "  </tbody>\n",
       "</table>\n",
       "</div>"
      ],
      "text/plain": [
       "       index  ToT         Signal norm  intact Start End  Length\n",
       "0  10013_a_0  t02   ab00s0e04n07    a       1     0  04       4\n",
       "1  10013_a_1  t02  ab01s08e09n07    a       1    08  09       1\n",
       "2  10013_a_2  t02  ab02s18e20n07    a       1    18  20       2\n",
       "3  10013_n_0  t02     nm00s20e28    n       1    20  28       8\n",
       "4  10017_a_0  t02   ab00s0e05n07    a       1     0  05       5"
      ]
     },
     "execution_count": 46,
     "metadata": {},
     "output_type": "execute_result"
    }
   ],
   "source": [
    "data_c.head()"
   ]
  },
  {
   "cell_type": "code",
   "execution_count": 25,
   "metadata": {},
   "outputs": [
    {
     "name": "stderr",
     "output_type": "stream",
     "text": [
      "C:\\Users\\lvxin\\Anaconda3\\envs\\fastai\\lib\\site-packages\\pandas\\core\\frame.py:4133: SettingWithCopyWarning: \n",
      "A value is trying to be set on a copy of a slice from a DataFrame\n",
      "\n",
      "See the caveats in the documentation: https://pandas.pydata.org/pandas-docs/stable/user_guide/indexing.html#returning-a-view-versus-a-copy\n",
      "  errors=errors,\n"
     ]
    }
   ],
   "source": [
    "data_c.rename(columns={'index':'key'}, inplace=True)"
   ]
  },
  {
   "cell_type": "code",
   "execution_count": 26,
   "metadata": {},
   "outputs": [
    {
     "data": {
      "text/html": [
       "<div>\n",
       "<style scoped>\n",
       "    .dataframe tbody tr th:only-of-type {\n",
       "        vertical-align: middle;\n",
       "    }\n",
       "\n",
       "    .dataframe tbody tr th {\n",
       "        vertical-align: top;\n",
       "    }\n",
       "\n",
       "    .dataframe thead th {\n",
       "        text-align: right;\n",
       "    }\n",
       "</style>\n",
       "<table border=\"1\" class=\"dataframe\">\n",
       "  <thead>\n",
       "    <tr style=\"text-align: right;\">\n",
       "      <th></th>\n",
       "      <th>key</th>\n",
       "      <th>ToT</th>\n",
       "      <th>Signal</th>\n",
       "      <th>norm</th>\n",
       "      <th>intact</th>\n",
       "      <th>Start</th>\n",
       "      <th>End</th>\n",
       "    </tr>\n",
       "  </thead>\n",
       "  <tbody>\n",
       "    <tr>\n",
       "      <th>0</th>\n",
       "      <td>10013_a_0</td>\n",
       "      <td>t02</td>\n",
       "      <td>ab00s0e04n07</td>\n",
       "      <td>a</td>\n",
       "      <td>1</td>\n",
       "      <td>0</td>\n",
       "      <td>04</td>\n",
       "    </tr>\n",
       "    <tr>\n",
       "      <th>1</th>\n",
       "      <td>10013_a_1</td>\n",
       "      <td>t02</td>\n",
       "      <td>ab01s08e09n07</td>\n",
       "      <td>a</td>\n",
       "      <td>1</td>\n",
       "      <td>08</td>\n",
       "      <td>09</td>\n",
       "    </tr>\n",
       "    <tr>\n",
       "      <th>2</th>\n",
       "      <td>10013_a_2</td>\n",
       "      <td>t02</td>\n",
       "      <td>ab02s18e20n07</td>\n",
       "      <td>a</td>\n",
       "      <td>1</td>\n",
       "      <td>18</td>\n",
       "      <td>20</td>\n",
       "    </tr>\n",
       "    <tr>\n",
       "      <th>3</th>\n",
       "      <td>10013_n_0</td>\n",
       "      <td>t02</td>\n",
       "      <td>nm00s20e28</td>\n",
       "      <td>n</td>\n",
       "      <td>1</td>\n",
       "      <td>20</td>\n",
       "      <td>28</td>\n",
       "    </tr>\n",
       "    <tr>\n",
       "      <th>4</th>\n",
       "      <td>10017_a_0</td>\n",
       "      <td>t02</td>\n",
       "      <td>ab00s0e05n07</td>\n",
       "      <td>a</td>\n",
       "      <td>1</td>\n",
       "      <td>0</td>\n",
       "      <td>05</td>\n",
       "    </tr>\n",
       "  </tbody>\n",
       "</table>\n",
       "</div>"
      ],
      "text/plain": [
       "         key  ToT         Signal norm  intact Start End\n",
       "0  10013_a_0  t02   ab00s0e04n07    a       1     0  04\n",
       "1  10013_a_1  t02  ab01s08e09n07    a       1    08  09\n",
       "2  10013_a_2  t02  ab02s18e20n07    a       1    18  20\n",
       "3  10013_n_0  t02     nm00s20e28    n       1    20  28\n",
       "4  10017_a_0  t02   ab00s0e05n07    a       1     0  05"
      ]
     },
     "execution_count": 26,
     "metadata": {},
     "output_type": "execute_result"
    }
   ],
   "source": [
    "data_c.head()"
   ]
  },
  {
   "cell_type": "code",
   "execution_count": 47,
   "metadata": {
    "scrolled": true
   },
   "outputs": [
    {
     "data": {
      "text/plain": [
       "<matplotlib.axes._subplots.AxesSubplot at 0x19937db0fd0>"
      ]
     },
     "execution_count": 47,
     "metadata": {},
     "output_type": "execute_result"
    },
    {
     "data": {
      "image/png": "[encoded data removed]",
      "text/plain": [
       "<Figure size 432x288 with 1 Axes>"
      ]
     },
     "metadata": {
      "needs_background": "light"
     },
     "output_type": "display_data"
    }
   ],
   "source": [
    "data_c.Length.hist()"
   ]
  },
  {
   "cell_type": "code",
   "execution_count": 48,
   "metadata": {},
   "outputs": [
    {
     "data": {
      "text/plain": [
       " 4      75\n",
       " 42     65\n",
       " 5      57\n",
       " 6      57\n",
       " 2      45\n",
       "        ..\n",
       " 144     1\n",
       " 147     1\n",
       " 69      1\n",
       " 156     1\n",
       "-494     1\n",
       "Name: Length, Length: 140, dtype: int64"
      ]
     },
     "execution_count": 48,
     "metadata": {},
     "output_type": "execute_result"
    }
   ],
   "source": [
    "data_c.Length.value_counts()"
   ]
  },
  {
   "cell_type": "code",
   "execution_count": 54,
   "metadata": {},
   "outputs": [
    {
     "data": {
      "text/html": [
       "<div>\n",
       "<style scoped>\n",
       "    .dataframe tbody tr th:only-of-type {\n",
       "        vertical-align: middle;\n",
       "    }\n",
       "\n",
       "    .dataframe tbody tr th {\n",
       "        vertical-align: top;\n",
       "    }\n",
       "\n",
       "    .dataframe thead th {\n",
       "        text-align: right;\n",
       "    }\n",
       "</style>\n",
       "<table border=\"1\" class=\"dataframe\">\n",
       "  <thead>\n",
       "    <tr style=\"text-align: right;\">\n",
       "      <th></th>\n",
       "      <th>index</th>\n",
       "      <th>ToT</th>\n",
       "      <th>Signal</th>\n",
       "      <th>norm</th>\n",
       "      <th>intact</th>\n",
       "      <th>Start</th>\n",
       "      <th>End</th>\n",
       "      <th>Length</th>\n",
       "    </tr>\n",
       "  </thead>\n",
       "  <tbody>\n",
       "    <tr>\n",
       "      <th>933</th>\n",
       "      <td>9520_a_0</td>\n",
       "      <td>t01</td>\n",
       "      <td>ab00s0e04n01</td>\n",
       "      <td>a</td>\n",
       "      <td>1</td>\n",
       "      <td>54</td>\n",
       "      <td>04</td>\n",
       "      <td>-50</td>\n",
       "    </tr>\n",
       "  </tbody>\n",
       "</table>\n",
       "</div>"
      ],
      "text/plain": [
       "        index  ToT        Signal norm  intact Start End  Length\n",
       "933  9520_a_0  t01  ab00s0e04n01    a       1    54  04     -50"
      ]
     },
     "execution_count": 54,
     "metadata": {},
     "output_type": "execute_result"
    }
   ],
   "source": [
    "data_c[data_c.Length.isin([-50])]"
   ]
  },
  {
   "cell_type": "code",
   "execution_count": 55,
   "metadata": {},
   "outputs": [
    {
     "name": "stderr",
     "output_type": "stream",
     "text": [
      "C:\\Users\\lvxin\\Anaconda3\\envs\\fastai\\lib\\site-packages\\pandas\\core\\indexing.py:966: SettingWithCopyWarning: \n",
      "A value is trying to be set on a copy of a slice from a DataFrame.\n",
      "Try using .loc[row_indexer,col_indexer] = value instead\n",
      "\n",
      "See the caveats in the documentation: https://pandas.pydata.org/pandas-docs/stable/user_guide/indexing.html#returning-a-view-versus-a-copy\n",
      "  self.obj[item] = s\n"
     ]
    }
   ],
   "source": [
    "data_c.loc[933,'Start']=0"
   ]
  },
  {
   "cell_type": "code",
   "execution_count": 57,
   "metadata": {},
   "outputs": [
    {
     "name": "stderr",
     "output_type": "stream",
     "text": [
      "C:\\Users\\lvxin\\Anaconda3\\envs\\fastai\\lib\\site-packages\\ipykernel_launcher.py:1: SettingWithCopyWarning: \n",
      "A value is trying to be set on a copy of a slice from a DataFrame.\n",
      "Try using .loc[row_indexer,col_indexer] = value instead\n",
      "\n",
      "See the caveats in the documentation: https://pandas.pydata.org/pandas-docs/stable/user_guide/indexing.html#returning-a-view-versus-a-copy\n",
      "  \"\"\"Entry point for launching an IPython kernel.\n"
     ]
    }
   ],
   "source": [
    "data_c['Length'] = data_c.apply(lambda x: int(x['End'])-int(x['Start']), axis=1)"
   ]
  },
  {
   "cell_type": "code",
   "execution_count": 58,
   "metadata": {},
   "outputs": [
    {
     "data": {
      "text/plain": [
       "4      75\n",
       "42     65\n",
       "6      58\n",
       "5      57\n",
       "7      45\n",
       "       ..\n",
       "144     1\n",
       "147     1\n",
       "65      1\n",
       "156     1\n",
       "298     1\n",
       "Name: Length, Length: 139, dtype: int64"
      ]
     },
     "execution_count": 58,
     "metadata": {},
     "output_type": "execute_result"
    }
   ],
   "source": [
    "data_c.Length.value_counts()"
   ]
  },
  {
   "cell_type": "code",
   "execution_count": 59,
   "metadata": {},
   "outputs": [
    {
     "data": {
      "text/plain": [
       "<matplotlib.axes._subplots.AxesSubplot at 0x19938e35240>"
      ]
     },
     "execution_count": 59,
     "metadata": {},
     "output_type": "execute_result"
    },
    {
     "data": {
      "image/png": "[encoded data removed]",
      "text/plain": [
       "<Figure size 432x288 with 1 Axes>"
      ]
     },
     "metadata": {
      "needs_background": "light"
     },
     "output_type": "display_data"
    }
   ],
   "source": [
    "data_c.Length.hist()"
   ]
  },
  {
   "cell_type": "code",
   "execution_count": 62,
   "metadata": {},
   "outputs": [
    {
     "name": "stderr",
     "output_type": "stream",
     "text": [
      "C:\\Users\\lvxin\\Anaconda3\\envs\\fastai\\lib\\site-packages\\ipykernel_launcher.py:1: SettingWithCopyWarning: \n",
      "A value is trying to be set on a copy of a slice from a DataFrame.\n",
      "Try using .loc[row_indexer,col_indexer] = value instead\n",
      "\n",
      "See the caveats in the documentation: https://pandas.pydata.org/pandas-docs/stable/user_guide/indexing.html#returning-a-view-versus-a-copy\n",
      "  \"\"\"Entry point for launching an IPython kernel.\n"
     ]
    }
   ],
   "source": [
    "data_c['norm'] = data_c.apply(lambda x: 1 if x['norm']=='n' else 0, axis=1)"
   ]
  },
  {
   "cell_type": "code",
   "execution_count": 63,
   "metadata": {},
   "outputs": [
    {
     "data": {
      "text/plain": [
       "<matplotlib.axes._subplots.AxesSubplot at 0x19938eb3780>"
      ]
     },
     "execution_count": 63,
     "metadata": {},
     "output_type": "execute_result"
    },
    {
     "data": {
      "image/png": "[encoded data removed]",
      "text/plain": [
       "<Figure size 432x288 with 1 Axes>"
      ]
     },
     "metadata": {
      "needs_background": "light"
     },
     "output_type": "display_data"
    }
   ],
   "source": [
    "data_c.norm.hist()"
   ]
  },
  {
   "cell_type": "code",
   "execution_count": 64,
   "metadata": {},
   "outputs": [
    {
     "data": {
      "text/plain": [
       "<matplotlib.axes._subplots.AxesSubplot at 0x19938f049e8>"
      ]
     },
     "execution_count": 64,
     "metadata": {},
     "output_type": "execute_result"
    },
    {
     "data": {
      "image/png": "[encoded data removed]",
      "text/plain": [
       "<Figure size 432x288 with 1 Axes>"
      ]
     },
     "metadata": {
      "needs_background": "light"
     },
     "output_type": "display_data"
    }
   ],
   "source": [
    "data_c[data_c.norm.isin([1])].Length.sum()\n",
    "data_c[data_c.norm.isin([0])].Length.sum()\n",
    "pd.Series([36052,14219]).plot.bar()"
   ]
  },
  {
   "cell_type": "code",
   "execution_count": 67,
   "metadata": {},
   "outputs": [
    {
     "data": {
      "text/html": [
       "<div>\n",
       "<style scoped>\n",
       "    .dataframe tbody tr th:only-of-type {\n",
       "        vertical-align: middle;\n",
       "    }\n",
       "\n",
       "    .dataframe tbody tr th {\n",
       "        vertical-align: top;\n",
       "    }\n",
       "\n",
       "    .dataframe thead th {\n",
       "        text-align: right;\n",
       "    }\n",
       "</style>\n",
       "<table border=\"1\" class=\"dataframe\">\n",
       "  <thead>\n",
       "    <tr style=\"text-align: right;\">\n",
       "      <th></th>\n",
       "      <th>index</th>\n",
       "      <th>ToT</th>\n",
       "      <th>Signal</th>\n",
       "      <th>norm</th>\n",
       "      <th>intact</th>\n",
       "      <th>Start</th>\n",
       "      <th>End</th>\n",
       "      <th>Length</th>\n",
       "    </tr>\n",
       "  </thead>\n",
       "  <tbody>\n",
       "    <tr>\n",
       "      <th>0</th>\n",
       "      <td>10013_a_0</td>\n",
       "      <td>t02</td>\n",
       "      <td>ab00s0e04n07</td>\n",
       "      <td>0</td>\n",
       "      <td>1</td>\n",
       "      <td>0</td>\n",
       "      <td>04</td>\n",
       "      <td>4</td>\n",
       "    </tr>\n",
       "    <tr>\n",
       "      <th>1</th>\n",
       "      <td>10013_a_1</td>\n",
       "      <td>t02</td>\n",
       "      <td>ab01s08e09n07</td>\n",
       "      <td>0</td>\n",
       "      <td>1</td>\n",
       "      <td>08</td>\n",
       "      <td>09</td>\n",
       "      <td>1</td>\n",
       "    </tr>\n",
       "    <tr>\n",
       "      <th>2</th>\n",
       "      <td>10013_a_2</td>\n",
       "      <td>t02</td>\n",
       "      <td>ab02s18e20n07</td>\n",
       "      <td>0</td>\n",
       "      <td>1</td>\n",
       "      <td>18</td>\n",
       "      <td>20</td>\n",
       "      <td>2</td>\n",
       "    </tr>\n",
       "    <tr>\n",
       "      <th>3</th>\n",
       "      <td>10013_n_0</td>\n",
       "      <td>t02</td>\n",
       "      <td>nm00s20e28</td>\n",
       "      <td>1</td>\n",
       "      <td>1</td>\n",
       "      <td>20</td>\n",
       "      <td>28</td>\n",
       "      <td>8</td>\n",
       "    </tr>\n",
       "    <tr>\n",
       "      <th>4</th>\n",
       "      <td>10017_a_0</td>\n",
       "      <td>t02</td>\n",
       "      <td>ab00s0e05n07</td>\n",
       "      <td>0</td>\n",
       "      <td>1</td>\n",
       "      <td>0</td>\n",
       "      <td>05</td>\n",
       "      <td>5</td>\n",
       "    </tr>\n",
       "  </tbody>\n",
       "</table>\n",
       "</div>"
      ],
      "text/plain": [
       "       index  ToT         Signal  norm  intact Start End  Length\n",
       "0  10013_a_0  t02   ab00s0e04n07     0       1     0  04       4\n",
       "1  10013_a_1  t02  ab01s08e09n07     0       1    08  09       1\n",
       "2  10013_a_2  t02  ab02s18e20n07     0       1    18  20       2\n",
       "3  10013_n_0  t02     nm00s20e28     1       1    20  28       8\n",
       "4  10017_a_0  t02   ab00s0e05n07     0       1     0  05       5"
      ]
     },
     "execution_count": 67,
     "metadata": {},
     "output_type": "execute_result"
    }
   ],
   "source": [
    "data_c.head()"
   ]
  },
  {
   "cell_type": "code",
   "execution_count": 72,
   "metadata": {},
   "outputs": [],
   "source": [
    "data_c['key']=data_c.apply(lambda x: int(x['index'].split('_')[0]),axis=1)"
   ]
  },
  {
   "cell_type": "code",
   "execution_count": 73,
   "metadata": {},
   "outputs": [
    {
     "data": {
      "text/html": [
       "<div>\n",
       "<style scoped>\n",
       "    .dataframe tbody tr th:only-of-type {\n",
       "        vertical-align: middle;\n",
       "    }\n",
       "\n",
       "    .dataframe tbody tr th {\n",
       "        vertical-align: top;\n",
       "    }\n",
       "\n",
       "    .dataframe thead th {\n",
       "        text-align: right;\n",
       "    }\n",
       "</style>\n",
       "<table border=\"1\" class=\"dataframe\">\n",
       "  <thead>\n",
       "    <tr style=\"text-align: right;\">\n",
       "      <th></th>\n",
       "      <th>index</th>\n",
       "      <th>ToT</th>\n",
       "      <th>Signal</th>\n",
       "      <th>norm</th>\n",
       "      <th>intact</th>\n",
       "      <th>Start</th>\n",
       "      <th>End</th>\n",
       "      <th>Length</th>\n",
       "      <th>key</th>\n",
       "    </tr>\n",
       "  </thead>\n",
       "  <tbody>\n",
       "    <tr>\n",
       "      <th>0</th>\n",
       "      <td>10013_a_0</td>\n",
       "      <td>t02</td>\n",
       "      <td>ab00s0e04n07</td>\n",
       "      <td>0</td>\n",
       "      <td>1</td>\n",
       "      <td>0</td>\n",
       "      <td>04</td>\n",
       "      <td>4</td>\n",
       "      <td>10013</td>\n",
       "    </tr>\n",
       "    <tr>\n",
       "      <th>1</th>\n",
       "      <td>10013_a_1</td>\n",
       "      <td>t02</td>\n",
       "      <td>ab01s08e09n07</td>\n",
       "      <td>0</td>\n",
       "      <td>1</td>\n",
       "      <td>08</td>\n",
       "      <td>09</td>\n",
       "      <td>1</td>\n",
       "      <td>10013</td>\n",
       "    </tr>\n",
       "    <tr>\n",
       "      <th>2</th>\n",
       "      <td>10013_a_2</td>\n",
       "      <td>t02</td>\n",
       "      <td>ab02s18e20n07</td>\n",
       "      <td>0</td>\n",
       "      <td>1</td>\n",
       "      <td>18</td>\n",
       "      <td>20</td>\n",
       "      <td>2</td>\n",
       "      <td>10013</td>\n",
       "    </tr>\n",
       "    <tr>\n",
       "      <th>3</th>\n",
       "      <td>10013_n_0</td>\n",
       "      <td>t02</td>\n",
       "      <td>nm00s20e28</td>\n",
       "      <td>1</td>\n",
       "      <td>1</td>\n",
       "      <td>20</td>\n",
       "      <td>28</td>\n",
       "      <td>8</td>\n",
       "      <td>10013</td>\n",
       "    </tr>\n",
       "    <tr>\n",
       "      <th>4</th>\n",
       "      <td>10017_a_0</td>\n",
       "      <td>t02</td>\n",
       "      <td>ab00s0e05n07</td>\n",
       "      <td>0</td>\n",
       "      <td>1</td>\n",
       "      <td>0</td>\n",
       "      <td>05</td>\n",
       "      <td>5</td>\n",
       "      <td>10017</td>\n",
       "    </tr>\n",
       "  </tbody>\n",
       "</table>\n",
       "</div>"
      ],
      "text/plain": [
       "       index  ToT         Signal  norm  intact Start End  Length    key\n",
       "0  10013_a_0  t02   ab00s0e04n07     0       1     0  04       4  10013\n",
       "1  10013_a_1  t02  ab01s08e09n07     0       1    08  09       1  10013\n",
       "2  10013_a_2  t02  ab02s18e20n07     0       1    18  20       2  10013\n",
       "3  10013_n_0  t02     nm00s20e28     1       1    20  28       8  10013\n",
       "4  10017_a_0  t02   ab00s0e05n07     0       1     0  05       5  10017"
      ]
     },
     "execution_count": 73,
     "metadata": {},
     "output_type": "execute_result"
    }
   ],
   "source": [
    "data_c.head()"
   ]
  },
  {
   "cell_type": "code",
   "execution_count": 74,
   "metadata": {},
   "outputs": [
    {
     "data": {
      "text/html": [
       "<div>\n",
       "<style scoped>\n",
       "    .dataframe tbody tr th:only-of-type {\n",
       "        vertical-align: middle;\n",
       "    }\n",
       "\n",
       "    .dataframe tbody tr th {\n",
       "        vertical-align: top;\n",
       "    }\n",
       "\n",
       "    .dataframe thead th {\n",
       "        text-align: right;\n",
       "    }\n",
       "</style>\n",
       "<table border=\"1\" class=\"dataframe\">\n",
       "  <thead>\n",
       "    <tr style=\"text-align: right;\">\n",
       "      <th></th>\n",
       "      <th>index</th>\n",
       "      <th>ToT</th>\n",
       "      <th>Signal</th>\n",
       "      <th>norm</th>\n",
       "      <th>intact</th>\n",
       "      <th>Start</th>\n",
       "      <th>End</th>\n",
       "      <th>Length</th>\n",
       "      <th>key</th>\n",
       "    </tr>\n",
       "  </thead>\n",
       "  <tbody>\n",
       "    <tr>\n",
       "      <th>0</th>\n",
       "      <td>8105_a_1</td>\n",
       "      <td>t01</td>\n",
       "      <td>ab01s18e24n01</td>\n",
       "      <td>0</td>\n",
       "      <td>1</td>\n",
       "      <td>18</td>\n",
       "      <td>24</td>\n",
       "      <td>6</td>\n",
       "      <td>8105</td>\n",
       "    </tr>\n",
       "    <tr>\n",
       "      <th>1</th>\n",
       "      <td>8105_a_0</td>\n",
       "      <td>t01</td>\n",
       "      <td>ab00s06e16n01</td>\n",
       "      <td>0</td>\n",
       "      <td>1</td>\n",
       "      <td>06</td>\n",
       "      <td>16</td>\n",
       "      <td>10</td>\n",
       "      <td>8105</td>\n",
       "    </tr>\n",
       "    <tr>\n",
       "      <th>2</th>\n",
       "      <td>8105_a_2</td>\n",
       "      <td>t01</td>\n",
       "      <td>ab03s27e41n01</td>\n",
       "      <td>0</td>\n",
       "      <td>1</td>\n",
       "      <td>27</td>\n",
       "      <td>41</td>\n",
       "      <td>14</td>\n",
       "      <td>8105</td>\n",
       "    </tr>\n",
       "    <tr>\n",
       "      <th>3</th>\n",
       "      <td>8105_n_0</td>\n",
       "      <td>t01</td>\n",
       "      <td>nm00s0e06n02</td>\n",
       "      <td>1</td>\n",
       "      <td>1</td>\n",
       "      <td>0</td>\n",
       "      <td>06</td>\n",
       "      <td>6</td>\n",
       "      <td>8105</td>\n",
       "    </tr>\n",
       "    <tr>\n",
       "      <th>4</th>\n",
       "      <td>8106_n_1</td>\n",
       "      <td>t02</td>\n",
       "      <td>nm01s09e25n02</td>\n",
       "      <td>1</td>\n",
       "      <td>1</td>\n",
       "      <td>09</td>\n",
       "      <td>25</td>\n",
       "      <td>16</td>\n",
       "      <td>8106</td>\n",
       "    </tr>\n",
       "  </tbody>\n",
       "</table>\n",
       "</div>"
      ],
      "text/plain": [
       "      index  ToT         Signal  norm  intact Start End  Length   key\n",
       "0  8105_a_1  t01  ab01s18e24n01     0       1    18  24       6  8105\n",
       "1  8105_a_0  t01  ab00s06e16n01     0       1    06  16      10  8105\n",
       "2  8105_a_2  t01  ab03s27e41n01     0       1    27  41      14  8105\n",
       "3  8105_n_0  t01   nm00s0e06n02     1       1     0  06       6  8105\n",
       "4  8106_n_1  t02  nm01s09e25n02     1       1    09  25      16  8106"
      ]
     },
     "execution_count": 74,
     "metadata": {},
     "output_type": "execute_result"
    }
   ],
   "source": [
    "data_c=data_c.sort_values(by='key',ascending=True)\n",
    "data_c=data_c.reset_index(drop=True)\n",
    "data_c.head()"
   ]
  },
  {
   "cell_type": "code",
   "execution_count": 75,
   "metadata": {},
   "outputs": [],
   "source": [
    "data_c.to_csv('main_step2.csv')"
   ]
  },
  {
   "cell_type": "markdown",
   "metadata": {},
   "source": [
    "# generating the data"
   ]
  },
  {
   "cell_type": "code",
   "execution_count": null,
   "metadata": {},
   "outputs": [],
   "source": [
    "#data_c=pd.read_csv('main_step2.csv')"
   ]
  },
  {
   "cell_type": "code",
   "execution_count": 76,
   "metadata": {},
   "outputs": [],
   "source": [
    "key_set = set(data_c.key)"
   ]
  },
  {
   "cell_type": "code",
   "execution_count": 77,
   "metadata": {},
   "outputs": [
    {
     "data": {
      "text/plain": [
       "603"
      ]
     },
     "execution_count": 77,
     "metadata": {},
     "output_type": "execute_result"
    }
   ],
   "source": [
    "len(key_set)"
   ]
  },
  {
   "cell_type": "code",
   "execution_count": 78,
   "metadata": {},
   "outputs": [
    {
     "data": {
      "text/plain": [
       "11595    12\n",
       "9914     10\n",
       "11394     8\n",
       "11449     8\n",
       "11006     8\n",
       "         ..\n",
       "11230     1\n",
       "11231     1\n",
       "11232     1\n",
       "11233     1\n",
       "10465     1\n",
       "Name: key, Length: 603, dtype: int64"
      ]
     },
     "execution_count": 78,
     "metadata": {},
     "output_type": "execute_result"
    }
   ],
   "source": [
    "data_c.key.value_counts()"
   ]
  },
  {
   "cell_type": "code",
   "execution_count": 79,
   "metadata": {},
   "outputs": [],
   "source": [
    "path = r'E:\\Data\\Medlink\\QualityControl\\600\\data'\n",
    "data_files = glob2.glob(os.path.join(path,'*csv'))"
   ]
  },
  {
   "cell_type": "code",
   "execution_count": 80,
   "metadata": {},
   "outputs": [],
   "source": [
    "key_fn = lambda x: x.split(os.sep)[-1].split('.')[0]"
   ]
  },
  {
   "cell_type": "code",
   "execution_count": 81,
   "metadata": {},
   "outputs": [
    {
     "name": "stdout",
     "output_type": "stream",
     "text": [
      "598\n"
     ]
    },
    {
     "data": {
      "text/plain": [
       "{'10013',\n",
       " '10017',\n",
       " '10018',\n",
       " '10019',\n",
       " '10076',\n",
       " '10083',\n",
       " '10087',\n",
       " '10089',\n",
       " '10092',\n",
       " '10094',\n",
       " '10095',\n",
       " '10099',\n",
       " '10101',\n",
       " '10104',\n",
       " '10106',\n",
       " '10109',\n",
       " '10110',\n",
       " '10112',\n",
       " '10117',\n",
       " '10121',\n",
       " '10122',\n",
       " '10123',\n",
       " '10125',\n",
       " '10128',\n",
       " '10226',\n",
       " '10227',\n",
       " '10228',\n",
       " '10240',\n",
       " '10241',\n",
       " '10242',\n",
       " '10255',\n",
       " '10271',\n",
       " '10274',\n",
       " '10277',\n",
       " '10279',\n",
       " '10281',\n",
       " '10300',\n",
       " '10301',\n",
       " '10302',\n",
       " '10303',\n",
       " '10304',\n",
       " '10305',\n",
       " '10306',\n",
       " '10316',\n",
       " '10319',\n",
       " '10321',\n",
       " '10322',\n",
       " '10323',\n",
       " '10324',\n",
       " '10326',\n",
       " '10328',\n",
       " '10345',\n",
       " '10393',\n",
       " '10394',\n",
       " '10395',\n",
       " '10396',\n",
       " '10397',\n",
       " '10406',\n",
       " '10407',\n",
       " '10408',\n",
       " '10414',\n",
       " '10415',\n",
       " '10416',\n",
       " '10419',\n",
       " '10458',\n",
       " '10459',\n",
       " '10460',\n",
       " '10461',\n",
       " '10463',\n",
       " '10464',\n",
       " '10518',\n",
       " '10519',\n",
       " '10520',\n",
       " '10546',\n",
       " '10596',\n",
       " '10608',\n",
       " '10609',\n",
       " '10825',\n",
       " '10826',\n",
       " '10827',\n",
       " '10829',\n",
       " '10833',\n",
       " '10834',\n",
       " '10835',\n",
       " '10836',\n",
       " '10837',\n",
       " '10838',\n",
       " '10839',\n",
       " '10840',\n",
       " '10842',\n",
       " '10843',\n",
       " '10844',\n",
       " '10845',\n",
       " '10846',\n",
       " '10847',\n",
       " '10848',\n",
       " '10850',\n",
       " '10851',\n",
       " '10852',\n",
       " '10853',\n",
       " '10854',\n",
       " '10856',\n",
       " '10857',\n",
       " '10858',\n",
       " '10859',\n",
       " '10860',\n",
       " '10861',\n",
       " '10863',\n",
       " '10864',\n",
       " '10890',\n",
       " '10891',\n",
       " '10892',\n",
       " '10893',\n",
       " '10894',\n",
       " '10895',\n",
       " '10896',\n",
       " '10944',\n",
       " '10945',\n",
       " '10946',\n",
       " '10947',\n",
       " '10949',\n",
       " '10951',\n",
       " '10952',\n",
       " '10953',\n",
       " '10954',\n",
       " '10955',\n",
       " '10956',\n",
       " '10957',\n",
       " '10958',\n",
       " '10960',\n",
       " '10967',\n",
       " '10968',\n",
       " '10969',\n",
       " '10970',\n",
       " '10971',\n",
       " '10972',\n",
       " '10973',\n",
       " '10974',\n",
       " '10975',\n",
       " '10976',\n",
       " '10977',\n",
       " '10986',\n",
       " '10987',\n",
       " '10988',\n",
       " '10989',\n",
       " '10990',\n",
       " '10991',\n",
       " '10992',\n",
       " '10993',\n",
       " '10994',\n",
       " '10995',\n",
       " '10996',\n",
       " '10997',\n",
       " '10998',\n",
       " '10999',\n",
       " '11000',\n",
       " '11002',\n",
       " '11003',\n",
       " '11004',\n",
       " '11005',\n",
       " '11006',\n",
       " '11007',\n",
       " '11008',\n",
       " '11009',\n",
       " '11010',\n",
       " '11011',\n",
       " '11020',\n",
       " '11021',\n",
       " '11022',\n",
       " '11023',\n",
       " '11024',\n",
       " '11025',\n",
       " '11026',\n",
       " '11027',\n",
       " '11028',\n",
       " '11029',\n",
       " '11030',\n",
       " '11058',\n",
       " '11069',\n",
       " '11107',\n",
       " '11153',\n",
       " '11158',\n",
       " '11159',\n",
       " '11160',\n",
       " '11161',\n",
       " '11162',\n",
       " '11163',\n",
       " '11164',\n",
       " '11165',\n",
       " '11166',\n",
       " '11167',\n",
       " '11168',\n",
       " '11169',\n",
       " '11170',\n",
       " '11171',\n",
       " '11172',\n",
       " '11173',\n",
       " '11175',\n",
       " '11176',\n",
       " '11178',\n",
       " '11179',\n",
       " '11181',\n",
       " '11186',\n",
       " '11196',\n",
       " '11197',\n",
       " '11198',\n",
       " '11200',\n",
       " '11201',\n",
       " '11202',\n",
       " '11203',\n",
       " '11204',\n",
       " '11205',\n",
       " '11206',\n",
       " '11207',\n",
       " '11208',\n",
       " '11209',\n",
       " '11211',\n",
       " '11212',\n",
       " '11213',\n",
       " '11214',\n",
       " '11215',\n",
       " '11216',\n",
       " '11218',\n",
       " '11219',\n",
       " '11220',\n",
       " '11221',\n",
       " '11222',\n",
       " '11223',\n",
       " '11224',\n",
       " '11225',\n",
       " '11226',\n",
       " '11227',\n",
       " '11229',\n",
       " '11230',\n",
       " '11231',\n",
       " '11232',\n",
       " '11233',\n",
       " '11236',\n",
       " '11237',\n",
       " '11238',\n",
       " '11239',\n",
       " '11240',\n",
       " '11241',\n",
       " '11242',\n",
       " '11243',\n",
       " '11244',\n",
       " '11245',\n",
       " '11246',\n",
       " '11374',\n",
       " '11379',\n",
       " '11380',\n",
       " '11393',\n",
       " '11394',\n",
       " '11395',\n",
       " '11396',\n",
       " '11397',\n",
       " '11398',\n",
       " '11399',\n",
       " '11400',\n",
       " '11401',\n",
       " '11407',\n",
       " '11408',\n",
       " '11409',\n",
       " '11410',\n",
       " '11414',\n",
       " '11415',\n",
       " '11417',\n",
       " '11418',\n",
       " '11419',\n",
       " '11420',\n",
       " '11421',\n",
       " '11422',\n",
       " '11423',\n",
       " '11424',\n",
       " '11426',\n",
       " '11427',\n",
       " '11428',\n",
       " '11429',\n",
       " '11430',\n",
       " '11431',\n",
       " '11432',\n",
       " '11435',\n",
       " '11436',\n",
       " '11437',\n",
       " '11439',\n",
       " '11440',\n",
       " '11443',\n",
       " '11444',\n",
       " '11445',\n",
       " '11446',\n",
       " '11448',\n",
       " '11449',\n",
       " '11450',\n",
       " '11451',\n",
       " '11454',\n",
       " '11455',\n",
       " '11456',\n",
       " '11457',\n",
       " '11458',\n",
       " '11460',\n",
       " '11461',\n",
       " '11462',\n",
       " '11463',\n",
       " '11464',\n",
       " '11465',\n",
       " '11466',\n",
       " '11468',\n",
       " '11469',\n",
       " '11470',\n",
       " '11471',\n",
       " '11475',\n",
       " '11476',\n",
       " '11477',\n",
       " '11478',\n",
       " '11481',\n",
       " '11482',\n",
       " '11483',\n",
       " '11484',\n",
       " '11486',\n",
       " '11487',\n",
       " '11488',\n",
       " '11492',\n",
       " '11500',\n",
       " '11503',\n",
       " '11504',\n",
       " '11505',\n",
       " '11506',\n",
       " '11507',\n",
       " '11508',\n",
       " '11527',\n",
       " '11528',\n",
       " '11543',\n",
       " '11544',\n",
       " '11547',\n",
       " '11548',\n",
       " '11551',\n",
       " '11552',\n",
       " '11553',\n",
       " '11554',\n",
       " '11555',\n",
       " '11563',\n",
       " '11567',\n",
       " '11568',\n",
       " '11569',\n",
       " '11570',\n",
       " '11571',\n",
       " '11572',\n",
       " '11573',\n",
       " '11574',\n",
       " '11575',\n",
       " '11576',\n",
       " '11577',\n",
       " '11578',\n",
       " '11579',\n",
       " '11580',\n",
       " '11581',\n",
       " '11582',\n",
       " '11583',\n",
       " '11584',\n",
       " '11585',\n",
       " '11586',\n",
       " '11587',\n",
       " '11588',\n",
       " '11589',\n",
       " '11590',\n",
       " '11591',\n",
       " '11593',\n",
       " '11594',\n",
       " '11595',\n",
       " '8105',\n",
       " '8106',\n",
       " '8108',\n",
       " '8109',\n",
       " '8110',\n",
       " '8112',\n",
       " '8113',\n",
       " '8118',\n",
       " '8119',\n",
       " '8120',\n",
       " '8150',\n",
       " '8363',\n",
       " '8364',\n",
       " '8365',\n",
       " '8370',\n",
       " '8371',\n",
       " '8389',\n",
       " '8390',\n",
       " '8391',\n",
       " '8392',\n",
       " '8393',\n",
       " '8399',\n",
       " '8400',\n",
       " '8401',\n",
       " '8417',\n",
       " '8418',\n",
       " '8432',\n",
       " '8433',\n",
       " '8452',\n",
       " '8453',\n",
       " '8454',\n",
       " '8455',\n",
       " '8458',\n",
       " '8464',\n",
       " '8491',\n",
       " '8494',\n",
       " '8499',\n",
       " '8508',\n",
       " '8509',\n",
       " '8514',\n",
       " '8517',\n",
       " '8521',\n",
       " '8522',\n",
       " '8523',\n",
       " '8525',\n",
       " '8527',\n",
       " '8528',\n",
       " '8538',\n",
       " '8539',\n",
       " '8540',\n",
       " '8541',\n",
       " '8542',\n",
       " '8543',\n",
       " '8544',\n",
       " '8545',\n",
       " '8546',\n",
       " '8548',\n",
       " '8549',\n",
       " '8550',\n",
       " '8551',\n",
       " '8552',\n",
       " '8553',\n",
       " '8554',\n",
       " '8555',\n",
       " '8556',\n",
       " '8557',\n",
       " '8558',\n",
       " '8559',\n",
       " '8560',\n",
       " '8561',\n",
       " '8562',\n",
       " '8563',\n",
       " '8564',\n",
       " '8565',\n",
       " '8570',\n",
       " '8742',\n",
       " '9036',\n",
       " '9303',\n",
       " '9306',\n",
       " '9312',\n",
       " '9313',\n",
       " '9315',\n",
       " '9316',\n",
       " '9317',\n",
       " '9320',\n",
       " '9348',\n",
       " '9349',\n",
       " '9350',\n",
       " '9351',\n",
       " '9413',\n",
       " '9414',\n",
       " '9415',\n",
       " '9418',\n",
       " '9419',\n",
       " '9420',\n",
       " '9421',\n",
       " '9422',\n",
       " '9423',\n",
       " '9424',\n",
       " '9425',\n",
       " '9426',\n",
       " '9471',\n",
       " '9472',\n",
       " '9473',\n",
       " '9474',\n",
       " '9481',\n",
       " '9482',\n",
       " '9506',\n",
       " '9516',\n",
       " '9517',\n",
       " '9518',\n",
       " '9519',\n",
       " '9520',\n",
       " '9522',\n",
       " '9523',\n",
       " '9524',\n",
       " '9525',\n",
       " '9526',\n",
       " '9539',\n",
       " '9542',\n",
       " '9543',\n",
       " '9544',\n",
       " '9545',\n",
       " '9546',\n",
       " '9549',\n",
       " '9553',\n",
       " '9554',\n",
       " '9555',\n",
       " '9558',\n",
       " '9559',\n",
       " '9561',\n",
       " '9564',\n",
       " '9566',\n",
       " '9572',\n",
       " '9573',\n",
       " '9574',\n",
       " '9575',\n",
       " '9578',\n",
       " '9579',\n",
       " '9580',\n",
       " '9587',\n",
       " '9589',\n",
       " '9590',\n",
       " '9591',\n",
       " '9592',\n",
       " '9602',\n",
       " '9624',\n",
       " '9627',\n",
       " '9628',\n",
       " '9629',\n",
       " '9630',\n",
       " '9642',\n",
       " '9666',\n",
       " '9667',\n",
       " '9668',\n",
       " '9671',\n",
       " '9672',\n",
       " '9673',\n",
       " '9674',\n",
       " '9675',\n",
       " '9678',\n",
       " '9679',\n",
       " '9681',\n",
       " '9685',\n",
       " '9686',\n",
       " '9687',\n",
       " '9695',\n",
       " '9696',\n",
       " '9714',\n",
       " '9715',\n",
       " '9717',\n",
       " '9718',\n",
       " '9719',\n",
       " '9723',\n",
       " '9738',\n",
       " '9751',\n",
       " '9752',\n",
       " '9753',\n",
       " '9754',\n",
       " '9755',\n",
       " '9757',\n",
       " '9759',\n",
       " '9760',\n",
       " '9798',\n",
       " '9799',\n",
       " '9801',\n",
       " '9802',\n",
       " '9803',\n",
       " '9816',\n",
       " '9817',\n",
       " '9818',\n",
       " '9819',\n",
       " '9826',\n",
       " '9835',\n",
       " '9844',\n",
       " '9853',\n",
       " '9866',\n",
       " '9868',\n",
       " '9869',\n",
       " '9871',\n",
       " '9872',\n",
       " '9874',\n",
       " '9878',\n",
       " '9879',\n",
       " '9880',\n",
       " '9881',\n",
       " '9882',\n",
       " '9883',\n",
       " '9884',\n",
       " '9887',\n",
       " '9888',\n",
       " '9914',\n",
       " '9915',\n",
       " '9916',\n",
       " '9917',\n",
       " '9918',\n",
       " '9919',\n",
       " '9920',\n",
       " '9921',\n",
       " '9922',\n",
       " '9923',\n",
       " '9926',\n",
       " '9927',\n",
       " '9975',\n",
       " '9977',\n",
       " '9978',\n",
       " '9980',\n",
       " '9981',\n",
       " '9982'}"
      ]
     },
     "execution_count": 81,
     "metadata": {},
     "output_type": "execute_result"
    }
   ],
   "source": [
    "file_list = []\n",
    "for file in data_files:\n",
    "    file_list.append(key_fn(file))\n",
    "file_set = set(file_list)\n",
    "print(len(file_set))\n",
    "file_set"
   ]
  },
  {
   "cell_type": "code",
   "execution_count": 82,
   "metadata": {},
   "outputs": [
    {
     "name": "stdout",
     "output_type": "stream",
     "text": [
      "603 598\n",
      "603\n"
     ]
    },
    {
     "data": {
      "text/plain": [
       "{8105,\n",
       " 8106,\n",
       " 8108,\n",
       " 8109,\n",
       " 8110,\n",
       " 8112,\n",
       " 8113,\n",
       " 8150,\n",
       " 8363,\n",
       " 8364,\n",
       " 8365,\n",
       " 8370,\n",
       " 8371,\n",
       " 8389,\n",
       " 8390,\n",
       " 8391,\n",
       " 8392,\n",
       " 8393,\n",
       " 8399,\n",
       " 8400,\n",
       " 8401,\n",
       " 8417,\n",
       " 8418,\n",
       " 8432,\n",
       " 8433,\n",
       " 8452,\n",
       " 8453,\n",
       " 8454,\n",
       " 8455,\n",
       " 8458,\n",
       " 8461,\n",
       " 8464,\n",
       " 8494,\n",
       " 8499,\n",
       " 8508,\n",
       " 8509,\n",
       " 8514,\n",
       " 8517,\n",
       " 8521,\n",
       " 8522,\n",
       " 8523,\n",
       " 8525,\n",
       " 8527,\n",
       " 8528,\n",
       " 8538,\n",
       " 8539,\n",
       " 8540,\n",
       " 8541,\n",
       " 8542,\n",
       " 8543,\n",
       " 8544,\n",
       " 8545,\n",
       " 8546,\n",
       " 8548,\n",
       " 8549,\n",
       " 8550,\n",
       " 8551,\n",
       " 8552,\n",
       " 8553,\n",
       " 8554,\n",
       " 8555,\n",
       " 8556,\n",
       " 8557,\n",
       " 8558,\n",
       " 8559,\n",
       " 8560,\n",
       " 8561,\n",
       " 8562,\n",
       " 8563,\n",
       " 8564,\n",
       " 8565,\n",
       " 8570,\n",
       " 8742,\n",
       " 9036,\n",
       " 9303,\n",
       " 9306,\n",
       " 9312,\n",
       " 9313,\n",
       " 9315,\n",
       " 9316,\n",
       " 9317,\n",
       " 9320,\n",
       " 9348,\n",
       " 9349,\n",
       " 9350,\n",
       " 9351,\n",
       " 9413,\n",
       " 9414,\n",
       " 9415,\n",
       " 9418,\n",
       " 9419,\n",
       " 9420,\n",
       " 9421,\n",
       " 9422,\n",
       " 9423,\n",
       " 9424,\n",
       " 9425,\n",
       " 9426,\n",
       " 9471,\n",
       " 9472,\n",
       " 9473,\n",
       " 9474,\n",
       " 9481,\n",
       " 9482,\n",
       " 9506,\n",
       " 9516,\n",
       " 9517,\n",
       " 9518,\n",
       " 9519,\n",
       " 9520,\n",
       " 9522,\n",
       " 9523,\n",
       " 9524,\n",
       " 9525,\n",
       " 9526,\n",
       " 9539,\n",
       " 9542,\n",
       " 9543,\n",
       " 9544,\n",
       " 9545,\n",
       " 9546,\n",
       " 9549,\n",
       " 9553,\n",
       " 9554,\n",
       " 9555,\n",
       " 9558,\n",
       " 9559,\n",
       " 9561,\n",
       " 9564,\n",
       " 9566,\n",
       " 9572,\n",
       " 9573,\n",
       " 9574,\n",
       " 9575,\n",
       " 9577,\n",
       " 9578,\n",
       " 9579,\n",
       " 9580,\n",
       " 9587,\n",
       " 9589,\n",
       " 9590,\n",
       " 9591,\n",
       " 9592,\n",
       " 9602,\n",
       " 9624,\n",
       " 9627,\n",
       " 9628,\n",
       " 9629,\n",
       " 9630,\n",
       " 9642,\n",
       " 9666,\n",
       " 9667,\n",
       " 9668,\n",
       " 9671,\n",
       " 9672,\n",
       " 9673,\n",
       " 9674,\n",
       " 9675,\n",
       " 9678,\n",
       " 9679,\n",
       " 9681,\n",
       " 9685,\n",
       " 9686,\n",
       " 9687,\n",
       " 9695,\n",
       " 9696,\n",
       " 9714,\n",
       " 9715,\n",
       " 9717,\n",
       " 9718,\n",
       " 9719,\n",
       " 9723,\n",
       " 9738,\n",
       " 9751,\n",
       " 9752,\n",
       " 9753,\n",
       " 9754,\n",
       " 9755,\n",
       " 9757,\n",
       " 9759,\n",
       " 9760,\n",
       " 9798,\n",
       " 9799,\n",
       " 9801,\n",
       " 9802,\n",
       " 9803,\n",
       " 9816,\n",
       " 9817,\n",
       " 9818,\n",
       " 9819,\n",
       " 9826,\n",
       " 9835,\n",
       " 9844,\n",
       " 9853,\n",
       " 9866,\n",
       " 9868,\n",
       " 9869,\n",
       " 9871,\n",
       " 9872,\n",
       " 9874,\n",
       " 9878,\n",
       " 9879,\n",
       " 9880,\n",
       " 9881,\n",
       " 9882,\n",
       " 9883,\n",
       " 9884,\n",
       " 9887,\n",
       " 9888,\n",
       " 9914,\n",
       " 9915,\n",
       " 9916,\n",
       " 9917,\n",
       " 9918,\n",
       " 9919,\n",
       " 9920,\n",
       " 9921,\n",
       " 9922,\n",
       " 9923,\n",
       " 9926,\n",
       " 9927,\n",
       " 9975,\n",
       " 9977,\n",
       " 9978,\n",
       " 9980,\n",
       " 9981,\n",
       " 9982,\n",
       " 10013,\n",
       " 10017,\n",
       " 10018,\n",
       " 10019,\n",
       " 10076,\n",
       " 10080,\n",
       " 10083,\n",
       " 10087,\n",
       " 10089,\n",
       " 10092,\n",
       " 10094,\n",
       " 10095,\n",
       " 10097,\n",
       " 10099,\n",
       " 10101,\n",
       " 10104,\n",
       " 10106,\n",
       " 10109,\n",
       " 10110,\n",
       " 10112,\n",
       " 10117,\n",
       " 10121,\n",
       " 10122,\n",
       " 10123,\n",
       " 10124,\n",
       " 10125,\n",
       " 10128,\n",
       " 10225,\n",
       " 10226,\n",
       " 10227,\n",
       " 10228,\n",
       " 10240,\n",
       " 10241,\n",
       " 10242,\n",
       " 10255,\n",
       " 10271,\n",
       " 10273,\n",
       " 10274,\n",
       " 10277,\n",
       " 10279,\n",
       " 10281,\n",
       " 10300,\n",
       " 10301,\n",
       " 10302,\n",
       " 10303,\n",
       " 10304,\n",
       " 10305,\n",
       " 10306,\n",
       " 10316,\n",
       " 10319,\n",
       " 10321,\n",
       " 10322,\n",
       " 10323,\n",
       " 10324,\n",
       " 10326,\n",
       " 10328,\n",
       " 10345,\n",
       " 10393,\n",
       " 10394,\n",
       " 10395,\n",
       " 10396,\n",
       " 10397,\n",
       " 10406,\n",
       " 10407,\n",
       " 10408,\n",
       " 10414,\n",
       " 10415,\n",
       " 10416,\n",
       " 10419,\n",
       " 10458,\n",
       " 10459,\n",
       " 10460,\n",
       " 10461,\n",
       " 10463,\n",
       " 10464,\n",
       " 10465,\n",
       " 10518,\n",
       " 10519,\n",
       " 10520,\n",
       " 10546,\n",
       " 10596,\n",
       " 10608,\n",
       " 10609,\n",
       " 10825,\n",
       " 10826,\n",
       " 10827,\n",
       " 10829,\n",
       " 10833,\n",
       " 10834,\n",
       " 10835,\n",
       " 10836,\n",
       " 10837,\n",
       " 10838,\n",
       " 10839,\n",
       " 10840,\n",
       " 10842,\n",
       " 10843,\n",
       " 10844,\n",
       " 10845,\n",
       " 10846,\n",
       " 10847,\n",
       " 10848,\n",
       " 10850,\n",
       " 10851,\n",
       " 10852,\n",
       " 10853,\n",
       " 10854,\n",
       " 10856,\n",
       " 10857,\n",
       " 10858,\n",
       " 10859,\n",
       " 10860,\n",
       " 10861,\n",
       " 10863,\n",
       " 10864,\n",
       " 10890,\n",
       " 10891,\n",
       " 10892,\n",
       " 10893,\n",
       " 10894,\n",
       " 10895,\n",
       " 10896,\n",
       " 10944,\n",
       " 10945,\n",
       " 10946,\n",
       " 10947,\n",
       " 10949,\n",
       " 10951,\n",
       " 10952,\n",
       " 10953,\n",
       " 10954,\n",
       " 10955,\n",
       " 10956,\n",
       " 10957,\n",
       " 10958,\n",
       " 10960,\n",
       " 10967,\n",
       " 10968,\n",
       " 10969,\n",
       " 10970,\n",
       " 10971,\n",
       " 10972,\n",
       " 10973,\n",
       " 10974,\n",
       " 10975,\n",
       " 10976,\n",
       " 10977,\n",
       " 10986,\n",
       " 10987,\n",
       " 10988,\n",
       " 10989,\n",
       " 10990,\n",
       " 10991,\n",
       " 10992,\n",
       " 10993,\n",
       " 10994,\n",
       " 10995,\n",
       " 10996,\n",
       " 10997,\n",
       " 10998,\n",
       " 10999,\n",
       " 11000,\n",
       " 11002,\n",
       " 11003,\n",
       " 11004,\n",
       " 11005,\n",
       " 11006,\n",
       " 11007,\n",
       " 11008,\n",
       " 11009,\n",
       " 11010,\n",
       " 11011,\n",
       " 11020,\n",
       " 11021,\n",
       " 11022,\n",
       " 11023,\n",
       " 11024,\n",
       " 11025,\n",
       " 11026,\n",
       " 11027,\n",
       " 11028,\n",
       " 11029,\n",
       " 11030,\n",
       " 11058,\n",
       " 11068,\n",
       " 11069,\n",
       " 11107,\n",
       " 11153,\n",
       " 11158,\n",
       " 11159,\n",
       " 11160,\n",
       " 11161,\n",
       " 11162,\n",
       " 11163,\n",
       " 11164,\n",
       " 11165,\n",
       " 11166,\n",
       " 11167,\n",
       " 11168,\n",
       " 11169,\n",
       " 11170,\n",
       " 11171,\n",
       " 11172,\n",
       " 11173,\n",
       " 11175,\n",
       " 11176,\n",
       " 11178,\n",
       " 11179,\n",
       " 11181,\n",
       " 11186,\n",
       " 11196,\n",
       " 11197,\n",
       " 11198,\n",
       " 11200,\n",
       " 11201,\n",
       " 11202,\n",
       " 11203,\n",
       " 11204,\n",
       " 11205,\n",
       " 11206,\n",
       " 11207,\n",
       " 11208,\n",
       " 11209,\n",
       " 11211,\n",
       " 11212,\n",
       " 11213,\n",
       " 11214,\n",
       " 11215,\n",
       " 11216,\n",
       " 11218,\n",
       " 11219,\n",
       " 11220,\n",
       " 11221,\n",
       " 11222,\n",
       " 11223,\n",
       " 11224,\n",
       " 11225,\n",
       " 11226,\n",
       " 11227,\n",
       " 11229,\n",
       " 11230,\n",
       " 11231,\n",
       " 11232,\n",
       " 11233,\n",
       " 11236,\n",
       " 11237,\n",
       " 11238,\n",
       " 11239,\n",
       " 11240,\n",
       " 11241,\n",
       " 11242,\n",
       " 11243,\n",
       " 11244,\n",
       " 11245,\n",
       " 11246,\n",
       " 11374,\n",
       " 11379,\n",
       " 11380,\n",
       " 11393,\n",
       " 11394,\n",
       " 11395,\n",
       " 11396,\n",
       " 11397,\n",
       " 11398,\n",
       " 11399,\n",
       " 11400,\n",
       " 11401,\n",
       " 11407,\n",
       " 11408,\n",
       " 11409,\n",
       " 11410,\n",
       " 11414,\n",
       " 11415,\n",
       " 11417,\n",
       " 11418,\n",
       " 11419,\n",
       " 11420,\n",
       " 11421,\n",
       " 11422,\n",
       " 11423,\n",
       " 11424,\n",
       " 11426,\n",
       " 11427,\n",
       " 11428,\n",
       " 11429,\n",
       " 11430,\n",
       " 11431,\n",
       " 11432,\n",
       " 11435,\n",
       " 11436,\n",
       " 11437,\n",
       " 11439,\n",
       " 11440,\n",
       " 11443,\n",
       " 11444,\n",
       " 11445,\n",
       " 11446,\n",
       " 11448,\n",
       " 11449,\n",
       " 11450,\n",
       " 11451,\n",
       " 11454,\n",
       " 11455,\n",
       " 11456,\n",
       " 11457,\n",
       " 11458,\n",
       " 11460,\n",
       " 11461,\n",
       " 11462,\n",
       " 11463,\n",
       " 11465,\n",
       " 11466,\n",
       " 11467,\n",
       " 11468,\n",
       " 11469,\n",
       " 11470,\n",
       " 11471,\n",
       " 11475,\n",
       " 11476,\n",
       " 11477,\n",
       " 11478,\n",
       " 11481,\n",
       " 11482,\n",
       " 11483,\n",
       " 11484,\n",
       " 11486,\n",
       " 11487,\n",
       " 11488,\n",
       " 11492,\n",
       " 11500,\n",
       " 11503,\n",
       " 11504,\n",
       " 11505,\n",
       " 11506,\n",
       " 11507,\n",
       " 11508,\n",
       " 11527,\n",
       " 11528,\n",
       " 11543,\n",
       " 11544,\n",
       " 11547,\n",
       " 11548,\n",
       " 11551,\n",
       " 11552,\n",
       " 11553,\n",
       " 11554,\n",
       " 11555,\n",
       " 11563,\n",
       " 11567,\n",
       " 11568,\n",
       " 11569,\n",
       " 11570,\n",
       " 11571,\n",
       " 11572,\n",
       " 11573,\n",
       " 11574,\n",
       " 11575,\n",
       " 11576,\n",
       " 11577,\n",
       " 11578,\n",
       " 11579,\n",
       " 11580,\n",
       " 11581,\n",
       " 11582,\n",
       " 11583,\n",
       " 11584,\n",
       " 11585,\n",
       " 11586,\n",
       " 11587,\n",
       " 11588,\n",
       " 11589,\n",
       " 11590,\n",
       " 11591,\n",
       " 11593,\n",
       " 11594,\n",
       " 11595}"
      ]
     },
     "execution_count": 82,
     "metadata": {},
     "output_type": "execute_result"
    }
   ],
   "source": [
    "print(len(key_set),len(file_set))\n",
    "print(len(key_set-file_set))\n",
    "key_set-file_set"
   ]
  },
  {
   "cell_type": "code",
   "execution_count": 83,
   "metadata": {},
   "outputs": [],
   "source": [
    "ID_set = set(data_c.key.apply(lambda x: str(x)))"
   ]
  },
  {
   "cell_type": "code",
   "execution_count": 88,
   "metadata": {},
   "outputs": [
    {
     "name": "stdout",
     "output_type": "stream",
     "text": [
      "603 598\n",
      "10\n"
     ]
    }
   ],
   "source": [
    "print(len(ID_set),len(file_set))\n",
    "print(len(ID_set-file_set))\n",
    "diff_set = ID_set-file_set\n",
    "same_set = ID_set&file_set"
   ]
  },
  {
   "cell_type": "code",
   "execution_count": 89,
   "metadata": {
    "scrolled": true
   },
   "outputs": [
    {
     "data": {
      "text/plain": [
       "593"
      ]
     },
     "execution_count": 89,
     "metadata": {},
     "output_type": "execute_result"
    }
   ],
   "source": [
    "len(same_set)"
   ]
  },
  {
   "cell_type": "code",
   "execution_count": 92,
   "metadata": {},
   "outputs": [
    {
     "data": {
      "text/plain": [
       "{'10080',\n",
       " '10097',\n",
       " '10124',\n",
       " '10225',\n",
       " '10273',\n",
       " '10465',\n",
       " '11068',\n",
       " '11467',\n",
       " '8461',\n",
       " '9577'}"
      ]
     },
     "execution_count": 92,
     "metadata": {},
     "output_type": "execute_result"
    }
   ],
   "source": [
    "diff_set"
   ]
  },
  {
   "cell_type": "code",
   "execution_count": 94,
   "metadata": {},
   "outputs": [
    {
     "name": "stdout",
     "output_type": "stream",
     "text": [
      "set()\n"
     ]
    }
   ],
   "source": [
    "print(diff_set&same_set) "
   ]
  },
  {
   "cell_type": "code",
   "execution_count": 86,
   "metadata": {},
   "outputs": [
    {
     "data": {
      "text/plain": [
       "True"
      ]
     },
     "execution_count": 86,
     "metadata": {},
     "output_type": "execute_result"
    }
   ],
   "source": [
    "diff_set<ID_set "
   ]
  },
  {
   "cell_type": "code",
   "execution_count": 87,
   "metadata": {},
   "outputs": [
    {
     "data": {
      "text/plain": [
       "False"
      ]
     },
     "execution_count": 87,
     "metadata": {},
     "output_type": "execute_result"
    }
   ],
   "source": [
    "diff_set<file_set"
   ]
  },
  {
   "cell_type": "markdown",
   "metadata": {},
   "source": [
    "## ----------------------------------"
   ]
  },
  {
   "cell_type": "code",
   "execution_count": 95,
   "metadata": {},
   "outputs": [],
   "source": [
    "file_name=[]\n",
    "file_path=[]\n",
    "for file in data_files:\n",
    "    file_name.append(int(key_fn(file)))\n",
    "    file_path.append(file)\n",
    "\n",
    "file_df = pd.DataFrame({\n",
    "    'SID':file_name,\n",
    "    'Path':file_path\n",
    "})"
   ]
  },
  {
   "cell_type": "code",
   "execution_count": 96,
   "metadata": {},
   "outputs": [
    {
     "data": {
      "text/html": [
       "<div>\n",
       "<style scoped>\n",
       "    .dataframe tbody tr th:only-of-type {\n",
       "        vertical-align: middle;\n",
       "    }\n",
       "\n",
       "    .dataframe tbody tr th {\n",
       "        vertical-align: top;\n",
       "    }\n",
       "\n",
       "    .dataframe thead th {\n",
       "        text-align: right;\n",
       "    }\n",
       "</style>\n",
       "<table border=\"1\" class=\"dataframe\">\n",
       "  <thead>\n",
       "    <tr style=\"text-align: right;\">\n",
       "      <th></th>\n",
       "      <th>SID</th>\n",
       "      <th>Path</th>\n",
       "    </tr>\n",
       "  </thead>\n",
       "  <tbody>\n",
       "    <tr>\n",
       "      <th>0</th>\n",
       "      <td>8105</td>\n",
       "      <td>E:\\Data\\Medlink\\QualityControl\\600\\data\\8105.csv</td>\n",
       "    </tr>\n",
       "    <tr>\n",
       "      <th>1</th>\n",
       "      <td>8106</td>\n",
       "      <td>E:\\Data\\Medlink\\QualityControl\\600\\data\\8106.csv</td>\n",
       "    </tr>\n",
       "    <tr>\n",
       "      <th>2</th>\n",
       "      <td>8108</td>\n",
       "      <td>E:\\Data\\Medlink\\QualityControl\\600\\data\\8108.csv</td>\n",
       "    </tr>\n",
       "    <tr>\n",
       "      <th>3</th>\n",
       "      <td>8109</td>\n",
       "      <td>E:\\Data\\Medlink\\QualityControl\\600\\data\\8109.csv</td>\n",
       "    </tr>\n",
       "    <tr>\n",
       "      <th>4</th>\n",
       "      <td>8110</td>\n",
       "      <td>E:\\Data\\Medlink\\QualityControl\\600\\data\\8110.csv</td>\n",
       "    </tr>\n",
       "  </tbody>\n",
       "</table>\n",
       "</div>"
      ],
      "text/plain": [
       "    SID                                              Path\n",
       "0  8105  E:\\Data\\Medlink\\QualityControl\\600\\data\\8105.csv\n",
       "1  8106  E:\\Data\\Medlink\\QualityControl\\600\\data\\8106.csv\n",
       "2  8108  E:\\Data\\Medlink\\QualityControl\\600\\data\\8108.csv\n",
       "3  8109  E:\\Data\\Medlink\\QualityControl\\600\\data\\8109.csv\n",
       "4  8110  E:\\Data\\Medlink\\QualityControl\\600\\data\\8110.csv"
      ]
     },
     "execution_count": 96,
     "metadata": {},
     "output_type": "execute_result"
    }
   ],
   "source": [
    "file_df=file_df.sort_values(by='SID',ascending=True)\n",
    "file_df=file_df.reset_index(drop=True)\n",
    "file_df.head()"
   ]
  },
  {
   "cell_type": "code",
   "execution_count": 97,
   "metadata": {},
   "outputs": [],
   "source": [
    "file_df.to_csv('data_file.csv')"
   ]
  },
  {
   "cell_type": "markdown",
   "metadata": {},
   "source": [
    "## -----------------------------------"
   ]
  },
  {
   "cell_type": "code",
   "execution_count": 99,
   "metadata": {},
   "outputs": [
    {
     "data": {
      "text/plain": [
       "598"
      ]
     },
     "execution_count": 99,
     "metadata": {},
     "output_type": "execute_result"
    }
   ],
   "source": [
    "file_dict = {}\n",
    "file_df = pd.read_csv('data_file.csv')\n",
    "for idx,sid in enumerate(file_df.SID):\n",
    "    temp = {str(sid):file_df['Path'][idx]}\n",
    "#     print(str(file_df.Path[idx]))\n",
    "    file_dict.update(temp)\n",
    "len(file_dict)"
   ]
  },
  {
   "cell_type": "code",
   "execution_count": 100,
   "metadata": {},
   "outputs": [],
   "source": [
    "main_df1 = pd.read_csv('main_step2.csv')"
   ]
  },
  {
   "cell_type": "code",
   "execution_count": 101,
   "metadata": {},
   "outputs": [
    {
     "data": {
      "text/html": [
       "<div>\n",
       "<style scoped>\n",
       "    .dataframe tbody tr th:only-of-type {\n",
       "        vertical-align: middle;\n",
       "    }\n",
       "\n",
       "    .dataframe tbody tr th {\n",
       "        vertical-align: top;\n",
       "    }\n",
       "\n",
       "    .dataframe thead th {\n",
       "        text-align: right;\n",
       "    }\n",
       "</style>\n",
       "<table border=\"1\" class=\"dataframe\">\n",
       "  <thead>\n",
       "    <tr style=\"text-align: right;\">\n",
       "      <th></th>\n",
       "      <th>Unnamed: 0</th>\n",
       "      <th>index</th>\n",
       "      <th>ToT</th>\n",
       "      <th>Signal</th>\n",
       "      <th>norm</th>\n",
       "      <th>intact</th>\n",
       "      <th>Start</th>\n",
       "      <th>End</th>\n",
       "      <th>Length</th>\n",
       "      <th>key</th>\n",
       "    </tr>\n",
       "  </thead>\n",
       "  <tbody>\n",
       "    <tr>\n",
       "      <th>0</th>\n",
       "      <td>0</td>\n",
       "      <td>8105_a_1</td>\n",
       "      <td>t01</td>\n",
       "      <td>ab01s18e24n01</td>\n",
       "      <td>0</td>\n",
       "      <td>1</td>\n",
       "      <td>18</td>\n",
       "      <td>24</td>\n",
       "      <td>6</td>\n",
       "      <td>8105</td>\n",
       "    </tr>\n",
       "    <tr>\n",
       "      <th>1</th>\n",
       "      <td>1</td>\n",
       "      <td>8105_a_0</td>\n",
       "      <td>t01</td>\n",
       "      <td>ab00s06e16n01</td>\n",
       "      <td>0</td>\n",
       "      <td>1</td>\n",
       "      <td>6</td>\n",
       "      <td>16</td>\n",
       "      <td>10</td>\n",
       "      <td>8105</td>\n",
       "    </tr>\n",
       "    <tr>\n",
       "      <th>2</th>\n",
       "      <td>2</td>\n",
       "      <td>8105_a_2</td>\n",
       "      <td>t01</td>\n",
       "      <td>ab03s27e41n01</td>\n",
       "      <td>0</td>\n",
       "      <td>1</td>\n",
       "      <td>27</td>\n",
       "      <td>41</td>\n",
       "      <td>14</td>\n",
       "      <td>8105</td>\n",
       "    </tr>\n",
       "    <tr>\n",
       "      <th>3</th>\n",
       "      <td>3</td>\n",
       "      <td>8105_n_0</td>\n",
       "      <td>t01</td>\n",
       "      <td>nm00s0e06n02</td>\n",
       "      <td>1</td>\n",
       "      <td>1</td>\n",
       "      <td>0</td>\n",
       "      <td>6</td>\n",
       "      <td>6</td>\n",
       "      <td>8105</td>\n",
       "    </tr>\n",
       "    <tr>\n",
       "      <th>4</th>\n",
       "      <td>4</td>\n",
       "      <td>8106_n_1</td>\n",
       "      <td>t02</td>\n",
       "      <td>nm01s09e25n02</td>\n",
       "      <td>1</td>\n",
       "      <td>1</td>\n",
       "      <td>9</td>\n",
       "      <td>25</td>\n",
       "      <td>16</td>\n",
       "      <td>8106</td>\n",
       "    </tr>\n",
       "  </tbody>\n",
       "</table>\n",
       "</div>"
      ],
      "text/plain": [
       "   Unnamed: 0     index  ToT         Signal  norm  intact  Start  End  Length  \\\n",
       "0           0  8105_a_1  t01  ab01s18e24n01     0       1     18   24       6   \n",
       "1           1  8105_a_0  t01  ab00s06e16n01     0       1      6   16      10   \n",
       "2           2  8105_a_2  t01  ab03s27e41n01     0       1     27   41      14   \n",
       "3           3  8105_n_0  t01   nm00s0e06n02     1       1      0    6       6   \n",
       "4           4  8106_n_1  t02  nm01s09e25n02     1       1      9   25      16   \n",
       "\n",
       "    key  \n",
       "0  8105  \n",
       "1  8105  \n",
       "2  8105  \n",
       "3  8105  \n",
       "4  8106  "
      ]
     },
     "execution_count": 101,
     "metadata": {},
     "output_type": "execute_result"
    }
   ],
   "source": [
    "main_df1.head()"
   ]
  },
  {
   "cell_type": "code",
   "execution_count": 104,
   "metadata": {},
   "outputs": [],
   "source": [
    "main_df1.rename(columns={'key':'main_key'},inplace=True)\n",
    "main_df1.rename(columns={'index':'key'},inplace=True)"
   ]
  },
  {
   "cell_type": "code",
   "execution_count": 106,
   "metadata": {},
   "outputs": [
    {
     "data": {
      "text/html": [
       "<div>\n",
       "<style scoped>\n",
       "    .dataframe tbody tr th:only-of-type {\n",
       "        vertical-align: middle;\n",
       "    }\n",
       "\n",
       "    .dataframe tbody tr th {\n",
       "        vertical-align: top;\n",
       "    }\n",
       "\n",
       "    .dataframe thead th {\n",
       "        text-align: right;\n",
       "    }\n",
       "</style>\n",
       "<table border=\"1\" class=\"dataframe\">\n",
       "  <thead>\n",
       "    <tr style=\"text-align: right;\">\n",
       "      <th></th>\n",
       "      <th>Unnamed: 0</th>\n",
       "      <th>key</th>\n",
       "      <th>ToT</th>\n",
       "      <th>Signal</th>\n",
       "      <th>norm</th>\n",
       "      <th>intact</th>\n",
       "      <th>Start</th>\n",
       "      <th>End</th>\n",
       "      <th>Length</th>\n",
       "      <th>main_key</th>\n",
       "    </tr>\n",
       "  </thead>\n",
       "  <tbody>\n",
       "    <tr>\n",
       "      <th>0</th>\n",
       "      <td>0</td>\n",
       "      <td>8105_a_1</td>\n",
       "      <td>t01</td>\n",
       "      <td>ab01s18e24n01</td>\n",
       "      <td>0</td>\n",
       "      <td>1</td>\n",
       "      <td>18</td>\n",
       "      <td>24</td>\n",
       "      <td>6</td>\n",
       "      <td>8105</td>\n",
       "    </tr>\n",
       "    <tr>\n",
       "      <th>1</th>\n",
       "      <td>1</td>\n",
       "      <td>8105_a_0</td>\n",
       "      <td>t01</td>\n",
       "      <td>ab00s06e16n01</td>\n",
       "      <td>0</td>\n",
       "      <td>1</td>\n",
       "      <td>6</td>\n",
       "      <td>16</td>\n",
       "      <td>10</td>\n",
       "      <td>8105</td>\n",
       "    </tr>\n",
       "    <tr>\n",
       "      <th>2</th>\n",
       "      <td>2</td>\n",
       "      <td>8105_a_2</td>\n",
       "      <td>t01</td>\n",
       "      <td>ab03s27e41n01</td>\n",
       "      <td>0</td>\n",
       "      <td>1</td>\n",
       "      <td>27</td>\n",
       "      <td>41</td>\n",
       "      <td>14</td>\n",
       "      <td>8105</td>\n",
       "    </tr>\n",
       "    <tr>\n",
       "      <th>3</th>\n",
       "      <td>3</td>\n",
       "      <td>8105_n_0</td>\n",
       "      <td>t01</td>\n",
       "      <td>nm00s0e06n02</td>\n",
       "      <td>1</td>\n",
       "      <td>1</td>\n",
       "      <td>0</td>\n",
       "      <td>6</td>\n",
       "      <td>6</td>\n",
       "      <td>8105</td>\n",
       "    </tr>\n",
       "    <tr>\n",
       "      <th>4</th>\n",
       "      <td>4</td>\n",
       "      <td>8106_n_1</td>\n",
       "      <td>t02</td>\n",
       "      <td>nm01s09e25n02</td>\n",
       "      <td>1</td>\n",
       "      <td>1</td>\n",
       "      <td>9</td>\n",
       "      <td>25</td>\n",
       "      <td>16</td>\n",
       "      <td>8106</td>\n",
       "    </tr>\n",
       "  </tbody>\n",
       "</table>\n",
       "</div>"
      ],
      "text/plain": [
       "   Unnamed: 0       key  ToT         Signal  norm  intact  Start  End  Length  \\\n",
       "0           0  8105_a_1  t01  ab01s18e24n01     0       1     18   24       6   \n",
       "1           1  8105_a_0  t01  ab00s06e16n01     0       1      6   16      10   \n",
       "2           2  8105_a_2  t01  ab03s27e41n01     0       1     27   41      14   \n",
       "3           3  8105_n_0  t01   nm00s0e06n02     1       1      0    6       6   \n",
       "4           4  8106_n_1  t02  nm01s09e25n02     1       1      9   25      16   \n",
       "\n",
       "   main_key  \n",
       "0      8105  \n",
       "1      8105  \n",
       "2      8105  \n",
       "3      8105  \n",
       "4      8106  "
      ]
     },
     "execution_count": 106,
     "metadata": {},
     "output_type": "execute_result"
    }
   ],
   "source": [
    "main_df1.head()"
   ]
  },
  {
   "cell_type": "markdown",
   "metadata": {},
   "source": [
    "## seg data generation"
   ]
  },
  {
   "cell_type": "code",
   "execution_count": null,
   "metadata": {},
   "outputs": [],
   "source": [
    "path_list=[]\n",
    "key_list=[]\n",
    "key_s_list=[]\n",
    "start_list=[]\n",
    "end_list=[]\n",
    "signal_list=[]\n",
    "total_length=[]\n",
    "segname_list=[]\n",
    "maxlen_list=[]\n",
    "\n",
    "len_patch = 4 #second\n",
    "fs = 250*4\n",
    "base_dir = r'E:\\Data\\Medlink\\QualityControl\\600\\seg_data'\n",
    "\n",
    "key_fn = lambda x: x.split('_')[0]\n",
    "\n",
    "for idx,key in enumerate(tqdm(main_df1['key'])):\n",
    "    data_len = main_df1.Length[idx]\n",
    "    n = (data_len)//len_patch\n",
    "    \n",
    "    key_t = main_df1.key[idx]\n",
    "    key = key_fn(main_df1.key[idx])\n",
    "    \n",
    "    start = main_df1.Start[idx]\n",
    "    \n",
    "    if 'n' in key_t:\n",
    "        data_len = n\n",
    "    elif 'a' in key_t:\n",
    "        data_len = n+1\n",
    "\n",
    "    try:\n",
    "#         print(idx,key_t,data_len,main_df1.Signal[idx],file_dict[key])\n",
    "        signal = pd.read_csv(file_dict[key])\n",
    "        signal.columns = ['data']\n",
    "        max_len = len(signal)\n",
    "#         print(key, file_dict[key])\n",
    "#         print(signal)\n",
    "    except:\n",
    "        print(key,' file not found.')\n",
    "        continue\n",
    "    \n",
    "#     print(idx,key,key_t,n)\n",
    "\n",
    "#     if idx >=100:\n",
    "#         break\n",
    "    \n",
    "    \n",
    "            \n",
    "    \n",
    "    for i in range(data_len):\n",
    "        key_tmp = key_t+'_'+str(i)\n",
    "        start_tmp = start + i*len_patch\n",
    "        sta_p = start_tmp*fs\n",
    "        end_p = sta_p+len_patch*fs\n",
    "        \n",
    "        if (end_p/4+1)>max_len:\n",
    "            print('warning:',key_tmp,max_len,end_p)\n",
    "            continue\n",
    "        \n",
    "#         sig_tmp = signal.data[sta_p:end_p]\n",
    "        \n",
    "        sig_seg_tmp = signal.data.loc[sta_p:end_p]\n",
    "        seg_csv_name = os.path.join(base_dir,key_tmp+'.csv')\n",
    "        \n",
    "#         print(key_tmp,n,i,start,sta_p,end_p,seg_csv_name)\n",
    "        \n",
    "        sig_seg_tmp.to_csv(seg_csv_name)\n",
    "        \n",
    "        segname_list.append(seg_csv_name)\n",
    "        \n",
    "        key_s_list.append(key_tmp)\n",
    "        key_list.append(int(key))\n",
    "        path_list.append(file_dict[key])\n",
    "        start_list.append(sta_p)\n",
    "        end_list.append(end_p)\n",
    "        signal_list.append(main_df1.Signal[idx])\n",
    "        maxlen_list.append(max_len)"
   ]
  },
  {
   "cell_type": "code",
   "execution_count": null,
   "metadata": {},
   "outputs": [],
   "source": [
    "sig_seg_df = pd.DataFrame({\n",
    "    'key':key_list,\n",
    "    'key_seg':key_s_list,\n",
    "    'signal':signal_list,\n",
    "    'path':path_list,\n",
    "    'start':start_list,\n",
    "    'end':end_list,\n",
    "    'seg_path':segname_list,\n",
    "    'max_len':maxlen_list\n",
    "})"
   ]
  },
  {
   "cell_type": "code",
   "execution_count": null,
   "metadata": {},
   "outputs": [],
   "source": [
    "sig_seg_df['max_len'] = sig_seg_df.apply(lambda x: (x['max_len']-1)*4,axis=1)"
   ]
  },
  {
   "cell_type": "code",
   "execution_count": null,
   "metadata": {},
   "outputs": [],
   "source": [
    "sig_seg_df['tag']=sig_seg_df.apply(lambda x: 1 if x['key_seg'].split('_')[1]=='a' else 0,axis=1)"
   ]
  },
  {
   "cell_type": "code",
   "execution_count": null,
   "metadata": {},
   "outputs": [],
   "source": [
    "sig_seg_df.tag.hist()"
   ]
  },
  {
   "cell_type": "code",
   "execution_count": null,
   "metadata": {},
   "outputs": [],
   "source": [
    "sig_seg_df.to_csv('sig_seg.csv')"
   ]
  },
  {
   "cell_type": "markdown",
   "metadata": {},
   "source": [
    "## prepare for the classification"
   ]
  },
  {
   "cell_type": "code",
   "execution_count": 107,
   "metadata": {},
   "outputs": [
    {
     "data": {
      "text/html": [
       "<div>\n",
       "<style scoped>\n",
       "    .dataframe tbody tr th:only-of-type {\n",
       "        vertical-align: middle;\n",
       "    }\n",
       "\n",
       "    .dataframe tbody tr th {\n",
       "        vertical-align: top;\n",
       "    }\n",
       "\n",
       "    .dataframe thead th {\n",
       "        text-align: right;\n",
       "    }\n",
       "</style>\n",
       "<table border=\"1\" class=\"dataframe\">\n",
       "  <thead>\n",
       "    <tr style=\"text-align: right;\">\n",
       "      <th></th>\n",
       "      <th>Unnamed: 0</th>\n",
       "      <th>key</th>\n",
       "      <th>key_seg</th>\n",
       "      <th>signal</th>\n",
       "      <th>path</th>\n",
       "      <th>start</th>\n",
       "      <th>end</th>\n",
       "      <th>seg_path</th>\n",
       "      <th>max_len</th>\n",
       "      <th>tag</th>\n",
       "    </tr>\n",
       "  </thead>\n",
       "  <tbody>\n",
       "    <tr>\n",
       "      <th>0</th>\n",
       "      <td>0</td>\n",
       "      <td>8105</td>\n",
       "      <td>8105_a_1_0</td>\n",
       "      <td>ab01s18e24n01</td>\n",
       "      <td>E:\\Data\\Medlink\\QualityControl\\600\\data\\8105.csv</td>\n",
       "      <td>18000</td>\n",
       "      <td>22000</td>\n",
       "      <td>E:\\Data\\Medlink\\QualityControl\\600\\seg_data\\81...</td>\n",
       "      <td>43000</td>\n",
       "      <td>1</td>\n",
       "    </tr>\n",
       "    <tr>\n",
       "      <th>1</th>\n",
       "      <td>1</td>\n",
       "      <td>8105</td>\n",
       "      <td>8105_a_1_1</td>\n",
       "      <td>ab01s18e24n01</td>\n",
       "      <td>E:\\Data\\Medlink\\QualityControl\\600\\data\\8105.csv</td>\n",
       "      <td>22000</td>\n",
       "      <td>26000</td>\n",
       "      <td>E:\\Data\\Medlink\\QualityControl\\600\\seg_data\\81...</td>\n",
       "      <td>43000</td>\n",
       "      <td>1</td>\n",
       "    </tr>\n",
       "    <tr>\n",
       "      <th>2</th>\n",
       "      <td>2</td>\n",
       "      <td>8105</td>\n",
       "      <td>8105_a_0_0</td>\n",
       "      <td>ab00s06e16n01</td>\n",
       "      <td>E:\\Data\\Medlink\\QualityControl\\600\\data\\8105.csv</td>\n",
       "      <td>6000</td>\n",
       "      <td>10000</td>\n",
       "      <td>E:\\Data\\Medlink\\QualityControl\\600\\seg_data\\81...</td>\n",
       "      <td>43000</td>\n",
       "      <td>1</td>\n",
       "    </tr>\n",
       "    <tr>\n",
       "      <th>3</th>\n",
       "      <td>3</td>\n",
       "      <td>8105</td>\n",
       "      <td>8105_a_0_1</td>\n",
       "      <td>ab00s06e16n01</td>\n",
       "      <td>E:\\Data\\Medlink\\QualityControl\\600\\data\\8105.csv</td>\n",
       "      <td>10000</td>\n",
       "      <td>14000</td>\n",
       "      <td>E:\\Data\\Medlink\\QualityControl\\600\\seg_data\\81...</td>\n",
       "      <td>43000</td>\n",
       "      <td>1</td>\n",
       "    </tr>\n",
       "    <tr>\n",
       "      <th>4</th>\n",
       "      <td>4</td>\n",
       "      <td>8105</td>\n",
       "      <td>8105_a_0_2</td>\n",
       "      <td>ab00s06e16n01</td>\n",
       "      <td>E:\\Data\\Medlink\\QualityControl\\600\\data\\8105.csv</td>\n",
       "      <td>14000</td>\n",
       "      <td>18000</td>\n",
       "      <td>E:\\Data\\Medlink\\QualityControl\\600\\seg_data\\81...</td>\n",
       "      <td>43000</td>\n",
       "      <td>1</td>\n",
       "    </tr>\n",
       "  </tbody>\n",
       "</table>\n",
       "</div>"
      ],
      "text/plain": [
       "   Unnamed: 0   key     key_seg         signal  \\\n",
       "0           0  8105  8105_a_1_0  ab01s18e24n01   \n",
       "1           1  8105  8105_a_1_1  ab01s18e24n01   \n",
       "2           2  8105  8105_a_0_0  ab00s06e16n01   \n",
       "3           3  8105  8105_a_0_1  ab00s06e16n01   \n",
       "4           4  8105  8105_a_0_2  ab00s06e16n01   \n",
       "\n",
       "                                               path  start    end  \\\n",
       "0  E:\\Data\\Medlink\\QualityControl\\600\\data\\8105.csv  18000  22000   \n",
       "1  E:\\Data\\Medlink\\QualityControl\\600\\data\\8105.csv  22000  26000   \n",
       "2  E:\\Data\\Medlink\\QualityControl\\600\\data\\8105.csv   6000  10000   \n",
       "3  E:\\Data\\Medlink\\QualityControl\\600\\data\\8105.csv  10000  14000   \n",
       "4  E:\\Data\\Medlink\\QualityControl\\600\\data\\8105.csv  14000  18000   \n",
       "\n",
       "                                            seg_path  max_len  tag  \n",
       "0  E:\\Data\\Medlink\\QualityControl\\600\\seg_data\\81...    43000    1  \n",
       "1  E:\\Data\\Medlink\\QualityControl\\600\\seg_data\\81...    43000    1  \n",
       "2  E:\\Data\\Medlink\\QualityControl\\600\\seg_data\\81...    43000    1  \n",
       "3  E:\\Data\\Medlink\\QualityControl\\600\\seg_data\\81...    43000    1  \n",
       "4  E:\\Data\\Medlink\\QualityControl\\600\\seg_data\\81...    43000    1  "
      ]
     },
     "execution_count": 107,
     "metadata": {},
     "output_type": "execute_result"
    }
   ],
   "source": [
    "base_dir =  r'E:\\Data\\Medlink\\QualityControl\\600'\n",
    "csv = 'sig_seg.csv'\n",
    "df = pd.read_csv(os.path.join(base_dir,csv))\n",
    "df.head()"
   ]
  },
  {
   "cell_type": "code",
   "execution_count": 108,
   "metadata": {},
   "outputs": [],
   "source": [
    "key_set = set(df.key)\n",
    "len(key_set)\n",
    "SEED = 1\n",
    "patients_verified = list(set(key_set))\n",
    "N_SELECT_total = len(set(key_set))\n",
    "N_SELECT_valid = round(N_SELECT_total*0.2)\n",
    "np.random.seed(SEED)\n",
    "# split for train/valid\n",
    "patients_selected = np.random.choice(patients_verified, N_SELECT_valid, replace=False)\n",
    "patients_train = list(set(patients_verified) - set(patients_selected))\n",
    "print('verified patients: {}'.format(len(patients_verified)))\n",
    "print('selected patients: {}'.format(len(patients_selected)))\n",
    "print('selected patients for train: {}'.format(len(patients_train)))\n",
    "df['valid']=df.apply(lambda x: 1 if x['key'] in set(patients_selected) else 0, axis=1)\n",
    "grouped = df.groupby(df['valid'])\n",
    "for value, group in grouped:\n",
    "    plt.figure()\n",
    "    group.tag.hist()"
   ]
  },
  {
   "cell_type": "code",
   "execution_count": 109,
   "metadata": {},
   "outputs": [
    {
     "name": "stdout",
     "output_type": "stream",
     "text": [
      "verified patients: 592\n",
      "selected patients: 118\n",
      "selected patients for train: 474\n"
     ]
    }
   ],
   "source": []
  },
  {
   "cell_type": "code",
   "execution_count": 110,
   "metadata": {},
   "outputs": [],
   "source": []
  },
  {
   "cell_type": "code",
   "execution_count": 112,
   "metadata": {
    "scrolled": true
   },
   "outputs": [
    {
     "data": {
      "image/png": "[encoded data removed]",
      "text/plain": [
       "<Figure size 432x288 with 1 Axes>"
      ]
     },
     "metadata": {
      "needs_background": "light"
     },
     "output_type": "display_data"
    },
    {
     "data": {
      "image/png": "[encoded data removed]",
      "text/plain": [
       "<Figure size 432x288 with 1 Axes>"
      ]
     },
     "metadata": {
      "needs_background": "light"
     },
     "output_type": "display_data"
    }
   ],
   "source": []
  },
  {
   "cell_type": "code",
   "execution_count": 111,
   "metadata": {},
   "outputs": [
    {
     "data": {
      "text/plain": [
       "<matplotlib.axes._subplots.AxesSubplot at 0x1993b7e48d0>"
      ]
     },
     "execution_count": 111,
     "metadata": {},
     "output_type": "execute_result"
    },
    {
     "data": {
      "image/png": "[encoded data removed]",
      "text/plain": [
       "<Figure size 432x288 with 1 Axes>"
      ]
     },
     "metadata": {
      "needs_background": "light"
     },
     "output_type": "display_data"
    }
   ],
   "source": [
    "df.valid.hist()"
   ]
  },
  {
   "cell_type": "code",
   "execution_count": null,
   "metadata": {},
   "outputs": [],
   "source": [
    "df.to_csv('ecg_classification.csv')"
   ]
  },
  {
   "cell_type": "code",
   "execution_count": null,
   "metadata": {},
   "outputs": [],
   "source": []
  }
 ],
 "metadata": {
  "kernelspec": {
   "display_name": "fastai_py36",
   "language": "python",
   "name": "fastai_py36"
  },
  "language_info": {
   "codemirror_mode": {
    "name": "ipython",
    "version": 3
   },
   "file_extension": ".py",
   "mimetype": "text/x-python",
   "name": "python",
   "nbconvert_exporter": "python",
   "pygments_lexer": "ipython3",
   "version": "3.6.10"
  }
 },
 "nbformat": 4,
 "nbformat_minor": 2
}
